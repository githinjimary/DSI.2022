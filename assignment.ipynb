{
  "cells": [
    {
      "cell_type": "markdown",
      "metadata": {
        "id": "view-in-github",
        "colab_type": "text"
      },
      "source": [
        "<a href=\"https://colab.research.google.com/github/githinjimary/DSI.2022/blob/main/assignment.ipynb\" target=\"_parent\"><img src=\"https://colab.research.google.com/assets/colab-badge.svg\" alt=\"Open In Colab\"/></a>"
      ]
    },
    {
      "cell_type": "markdown",
      "source": [
        "#MARY NG'ENDO GITHINJI\n",
        "github logins\n",
        "USERNAME; githinjimary\n",
        "PASSWORD; githinji13"
      ],
      "metadata": {
        "id": "-auGZ_tLf49S"
      },
      "id": "-auGZ_tLf49S"
    },
    {
      "cell_type": "markdown",
      "source": [
        "Question 1"
      ],
      "metadata": {
        "id": "hGOFXD5uZpXN"
      },
      "id": "hGOFXD5uZpXN"
    },
    {
      "cell_type": "code",
      "source": [
        "import turtle\n",
        "\n",
        "# colab turtle\n",
        "!pip3 install ColabTurtle\n",
        "from ColabTurtle.Turtle import *\n",
        "\n",
        "# imports to make plots\n",
        "\n",
        "import matplotlib.pyplot as plt\n",
        "from matplotlib.patches import Polygon\n",
        "import numpy as np"
      ],
      "metadata": {
        "colab": {
          "base_uri": "https://localhost:8080/"
        },
        "id": "sqw0XeJXZspr",
        "outputId": "b74dd2af-432f-4ad9-ad3a-bb6d38b01b5c"
      },
      "id": "sqw0XeJXZspr",
      "execution_count": null,
      "outputs": [
        {
          "output_type": "stream",
          "name": "stdout",
          "text": [
            "Requirement already satisfied: ColabTurtle in /usr/local/lib/python3.7/dist-packages (2.1.0)\n"
          ]
        }
      ]
    },
    {
      "cell_type": "code",
      "source": [
        "# initialize the turtle\n",
        "initializeTurtle()"
      ],
      "metadata": {
        "colab": {
          "base_uri": "https://localhost:8080/",
          "height": 521
        },
        "id": "lhSLL5RzaEt5",
        "outputId": "a63736db-8c76-4c4e-d5ee-693fa98ff3f7"
      },
      "id": "lhSLL5RzaEt5",
      "execution_count": null,
      "outputs": [
        {
          "output_type": "display_data",
          "data": {
            "text/html": [
              "\n",
              "      <svg width=\"800\" height=\"500\">\n",
              "        <rect width=\"100%\" height=\"100%\" fill=\"black\"/>\n",
              "        \n",
              "        <g visibility=visible transform=\"rotate(360,400,250) translate(382, 232)\">\n",
              "<path style=\" stroke:none;fill-rule:evenodd;fill:white;fill-opacity:1;\" d=\"M 18.214844 0.632812 C 16.109375 1.800781 15.011719 4.074219 15.074219 7.132812 L 15.085938 7.652344 L 14.785156 7.496094 C 13.476562 6.824219 11.957031 6.671875 10.40625 7.066406 C 8.46875 7.550781 6.515625 9.15625 4.394531 11.992188 C 3.0625 13.777344 2.679688 14.636719 3.042969 15.027344 L 3.15625 15.152344 L 3.519531 15.152344 C 4.238281 15.152344 4.828125 14.886719 8.1875 13.039062 C 9.386719 12.378906 10.371094 11.839844 10.378906 11.839844 C 10.386719 11.839844 10.355469 11.929688 10.304688 12.035156 C 9.832031 13.09375 9.257812 14.820312 8.96875 16.078125 C 7.914062 20.652344 8.617188 24.53125 11.070312 27.660156 C 11.351562 28.015625 11.363281 27.914062 10.972656 28.382812 C 8.925781 30.84375 7.945312 33.28125 8.238281 35.1875 C 8.289062 35.527344 8.28125 35.523438 8.917969 35.523438 C 10.941406 35.523438 13.074219 34.207031 15.136719 31.6875 C 15.359375 31.417969 15.328125 31.425781 15.5625 31.574219 C 16.292969 32.042969 18.023438 32.964844 18.175781 32.964844 C 18.335938 32.964844 19.941406 32.210938 20.828125 31.71875 C 20.996094 31.625 21.136719 31.554688 21.136719 31.558594 C 21.203125 31.664062 21.898438 32.414062 22.222656 32.730469 C 23.835938 34.300781 25.5625 35.132812 27.582031 35.300781 C 27.90625 35.328125 27.9375 35.308594 28.007812 34.984375 C 28.382812 33.242188 27.625 30.925781 25.863281 28.425781 L 25.542969 27.96875 L 25.699219 27.785156 C 28.945312 23.960938 29.132812 18.699219 26.257812 11.96875 L 26.207031 11.84375 L 27.945312 12.703125 C 31.53125 14.476562 32.316406 14.800781 33.03125 14.800781 C 33.976562 14.800781 33.78125 13.9375 32.472656 12.292969 C 28.519531 7.355469 25.394531 5.925781 21.921875 7.472656 L 21.558594 7.636719 L 21.578125 7.542969 C 21.699219 6.992188 21.761719 5.742188 21.699219 5.164062 C 21.496094 3.296875 20.664062 1.964844 19.003906 0.855469 C 18.480469 0.503906 18.457031 0.5 18.214844 0.632812\"/>\n",
              "</g>\n",
              "      </svg>\n",
              "    "
            ],
            "text/plain": [
              "<IPython.core.display.HTML object>"
            ]
          },
          "metadata": {}
        }
      ]
    },
    {
      "cell_type": "code",
      "source": [
        "# try:\n",
        "#     t = turtle.Turtle()\n",
        "# except:\n",
        "#     t = turtle.Turtle()"
      ],
      "metadata": {
        "id": "mH0cGW2-aFAw"
      },
      "id": "mH0cGW2-aFAw",
      "execution_count": null,
      "outputs": []
    },
    {
      "cell_type": "code",
      "source": [
        "def drawPolygon(t, vertices):\n",
        "    up()\n",
        "    (x, y) = vertices[-1]\n",
        "    goto(x, y)\n",
        "    down()\n",
        "    for (x, y) in vertices:\n",
        "        goto(x, y)"
      ],
      "metadata": {
        "id": "TtfdMzgSaFKT"
      },
      "id": "TtfdMzgSaFKT",
      "execution_count": null,
      "outputs": []
    },
    {
      "cell_type": "code",
      "source": [
        "vertices = []\n",
        "def drawHex():\n",
        "    penup()\n",
        "    goto(250,350)\n",
        "    pendown()\n",
        "    for _ in range(6):\n",
        "      forward(225)\n",
        "      right(360 / 6)\n",
        "      vert = pos()\n",
        "      vertices.append(vert)\n",
        "\n",
        "\n",
        "drawHex()\n",
        "print(vertices)"
      ],
      "metadata": {
        "colab": {
          "base_uri": "https://localhost:8080/",
          "height": 538
        },
        "id": "_B44-FnMaNZc",
        "outputId": "659e4fd7-8ab7-4351-d2d7-0f4ee00e326c"
      },
      "id": "_B44-FnMaNZc",
      "execution_count": null,
      "outputs": [
        {
          "output_type": "display_data",
          "data": {
            "text/html": [
              "\n",
              "      <svg width=\"800\" height=\"500\">\n",
              "        <rect width=\"100%\" height=\"100%\" fill=\"black\"/>\n",
              "        <line x1=\"250\" y1=\"350\" x2=\"250.0\" y2=\"125.0\" stroke-linecap=\"round\" style=\"stroke:white;stroke-width:4\"/><line x1=\"250.0\" y1=\"125.0\" x2=\"444.856\" y2=\"12.5\" stroke-linecap=\"round\" style=\"stroke:white;stroke-width:4\"/><line x1=\"444.856\" y1=\"12.5\" x2=\"639.712\" y2=\"125.0\" stroke-linecap=\"round\" style=\"stroke:white;stroke-width:4\"/><line x1=\"639.712\" y1=\"125.0\" x2=\"639.712\" y2=\"350.0\" stroke-linecap=\"round\" style=\"stroke:white;stroke-width:4\"/><line x1=\"639.712\" y1=\"350.0\" x2=\"444.856\" y2=\"462.5\" stroke-linecap=\"round\" style=\"stroke:white;stroke-width:4\"/><line x1=\"444.856\" y1=\"462.5\" x2=\"250.0\" y2=\"350.0\" stroke-linecap=\"round\" style=\"stroke:white;stroke-width:4\"/>\n",
              "        <g visibility=visible transform=\"rotate(360.0,250.0,350.0) translate(232.0, 332.0)\">\n",
              "<path style=\" stroke:none;fill-rule:evenodd;fill:white;fill-opacity:1;\" d=\"M 18.214844 0.632812 C 16.109375 1.800781 15.011719 4.074219 15.074219 7.132812 L 15.085938 7.652344 L 14.785156 7.496094 C 13.476562 6.824219 11.957031 6.671875 10.40625 7.066406 C 8.46875 7.550781 6.515625 9.15625 4.394531 11.992188 C 3.0625 13.777344 2.679688 14.636719 3.042969 15.027344 L 3.15625 15.152344 L 3.519531 15.152344 C 4.238281 15.152344 4.828125 14.886719 8.1875 13.039062 C 9.386719 12.378906 10.371094 11.839844 10.378906 11.839844 C 10.386719 11.839844 10.355469 11.929688 10.304688 12.035156 C 9.832031 13.09375 9.257812 14.820312 8.96875 16.078125 C 7.914062 20.652344 8.617188 24.53125 11.070312 27.660156 C 11.351562 28.015625 11.363281 27.914062 10.972656 28.382812 C 8.925781 30.84375 7.945312 33.28125 8.238281 35.1875 C 8.289062 35.527344 8.28125 35.523438 8.917969 35.523438 C 10.941406 35.523438 13.074219 34.207031 15.136719 31.6875 C 15.359375 31.417969 15.328125 31.425781 15.5625 31.574219 C 16.292969 32.042969 18.023438 32.964844 18.175781 32.964844 C 18.335938 32.964844 19.941406 32.210938 20.828125 31.71875 C 20.996094 31.625 21.136719 31.554688 21.136719 31.558594 C 21.203125 31.664062 21.898438 32.414062 22.222656 32.730469 C 23.835938 34.300781 25.5625 35.132812 27.582031 35.300781 C 27.90625 35.328125 27.9375 35.308594 28.007812 34.984375 C 28.382812 33.242188 27.625 30.925781 25.863281 28.425781 L 25.542969 27.96875 L 25.699219 27.785156 C 28.945312 23.960938 29.132812 18.699219 26.257812 11.96875 L 26.207031 11.84375 L 27.945312 12.703125 C 31.53125 14.476562 32.316406 14.800781 33.03125 14.800781 C 33.976562 14.800781 33.78125 13.9375 32.472656 12.292969 C 28.519531 7.355469 25.394531 5.925781 21.921875 7.472656 L 21.558594 7.636719 L 21.578125 7.542969 C 21.699219 6.992188 21.761719 5.742188 21.699219 5.164062 C 21.496094 3.296875 20.664062 1.964844 19.003906 0.855469 C 18.480469 0.503906 18.457031 0.5 18.214844 0.632812\"/>\n",
              "</g>\n",
              "      </svg>\n",
              "    "
            ],
            "text/plain": [
              "<IPython.core.display.HTML object>"
            ]
          },
          "metadata": {}
        },
        {
          "output_type": "stream",
          "name": "stdout",
          "text": [
            "[(250.0, 125.0), (444.856, 12.5), (639.712, 125.0), (639.712, 350.0), (444.856, 462.5), (250.0, 350.0)]\n"
          ]
        }
      ]
    },
    {
      "cell_type": "code",
      "source": [
        "import random\n",
        "#the function returns a random point\n",
        "\n",
        "def random_point():\n",
        "    pair_vertices = []\n",
        "    num = random.randint(0,5)\n",
        "    for i in range(len(vertices)):\n",
        "        if i < len(vertices)-1:\n",
        "            pair_vertices.append((vertices[i],vertices[i+1]))\n",
        "    pair_vertices.append((vertices[-1],vertices[0]))\n",
        "    return pair_vertices[num]"
      ],
      "metadata": {
        "id": "sWnSrQhjaNg6"
      },
      "id": "sWnSrQhjaNg6",
      "execution_count": null,
      "outputs": []
    },
    {
      "cell_type": "code",
      "source": [
        "# a random point within the hexagon\n",
        "user_point = (500,200)\n",
        "\n",
        "# a function returns three coordinates including the user point\n",
        "\n",
        "def triangle_coordinates(cent):\n",
        "    new_points = list(random_point())\n",
        "    new_points.append(cent)\n",
        "    return new_points"
      ],
      "metadata": {
        "id": "rm_4WlZcaNkD"
      },
      "id": "rm_4WlZcaNkD",
      "execution_count": null,
      "outputs": []
    },
    {
      "cell_type": "code",
      "source": [
        "# function to draw triangle with random inputs\n",
        "points = []\n",
        "def triangle(point):\n",
        "    global points\n",
        "    # it is used to draw out the pen\n",
        "    penup()\n",
        "\n",
        "    # it is used to move cursor at x\n",
        "    # and y position\n",
        "    goto(point)\n",
        "    \n",
        "\n",
        "    # it is used to draw in the pen\n",
        "    pendown()\n",
        "    point_tri = triangle_coordinates(point)\n",
        "    points = point_tri\n",
        "    \n",
        "    for (w, z) in points:\n",
        "        goto(w, z)\n",
        "    \n",
        "# special built in function to send current\n",
        "# position of cursor to triangle\n",
        "\n",
        "triangle(user_point)"
      ],
      "metadata": {
        "colab": {
          "base_uri": "https://localhost:8080/",
          "height": 521
        },
        "id": "kdF2aYHKaWxW",
        "outputId": "a29a7578-e8eb-4420-91b5-c460e8143c89"
      },
      "id": "kdF2aYHKaWxW",
      "execution_count": null,
      "outputs": [
        {
          "output_type": "display_data",
          "data": {
            "text/html": [
              "\n",
              "      <svg width=\"800\" height=\"500\">\n",
              "        <rect width=\"100%\" height=\"100%\" fill=\"black\"/>\n",
              "        <line x1=\"250\" y1=\"350\" x2=\"250.0\" y2=\"125.0\" stroke-linecap=\"round\" style=\"stroke:white;stroke-width:4\"/><line x1=\"250.0\" y1=\"125.0\" x2=\"444.856\" y2=\"12.5\" stroke-linecap=\"round\" style=\"stroke:white;stroke-width:4\"/><line x1=\"444.856\" y1=\"12.5\" x2=\"639.712\" y2=\"125.0\" stroke-linecap=\"round\" style=\"stroke:white;stroke-width:4\"/><line x1=\"639.712\" y1=\"125.0\" x2=\"639.712\" y2=\"350.0\" stroke-linecap=\"round\" style=\"stroke:white;stroke-width:4\"/><line x1=\"639.712\" y1=\"350.0\" x2=\"444.856\" y2=\"462.5\" stroke-linecap=\"round\" style=\"stroke:white;stroke-width:4\"/><line x1=\"444.856\" y1=\"462.5\" x2=\"250.0\" y2=\"350.0\" stroke-linecap=\"round\" style=\"stroke:white;stroke-width:4\"/><line x1=\"500\" y1=\"200\" x2=\"444.856\" y2=\"12.5\" stroke-linecap=\"round\" style=\"stroke:white;stroke-width:4\"/><line x1=\"444.856\" y1=\"12.5\" x2=\"639.712\" y2=\"125.0\" stroke-linecap=\"round\" style=\"stroke:white;stroke-width:4\"/><line x1=\"639.712\" y1=\"125.0\" x2=\"500\" y2=\"200\" stroke-linecap=\"round\" style=\"stroke:white;stroke-width:4\"/>\n",
              "        <g visibility=visible transform=\"rotate(360.0,500,200) translate(482, 182)\">\n",
              "<path style=\" stroke:none;fill-rule:evenodd;fill:white;fill-opacity:1;\" d=\"M 18.214844 0.632812 C 16.109375 1.800781 15.011719 4.074219 15.074219 7.132812 L 15.085938 7.652344 L 14.785156 7.496094 C 13.476562 6.824219 11.957031 6.671875 10.40625 7.066406 C 8.46875 7.550781 6.515625 9.15625 4.394531 11.992188 C 3.0625 13.777344 2.679688 14.636719 3.042969 15.027344 L 3.15625 15.152344 L 3.519531 15.152344 C 4.238281 15.152344 4.828125 14.886719 8.1875 13.039062 C 9.386719 12.378906 10.371094 11.839844 10.378906 11.839844 C 10.386719 11.839844 10.355469 11.929688 10.304688 12.035156 C 9.832031 13.09375 9.257812 14.820312 8.96875 16.078125 C 7.914062 20.652344 8.617188 24.53125 11.070312 27.660156 C 11.351562 28.015625 11.363281 27.914062 10.972656 28.382812 C 8.925781 30.84375 7.945312 33.28125 8.238281 35.1875 C 8.289062 35.527344 8.28125 35.523438 8.917969 35.523438 C 10.941406 35.523438 13.074219 34.207031 15.136719 31.6875 C 15.359375 31.417969 15.328125 31.425781 15.5625 31.574219 C 16.292969 32.042969 18.023438 32.964844 18.175781 32.964844 C 18.335938 32.964844 19.941406 32.210938 20.828125 31.71875 C 20.996094 31.625 21.136719 31.554688 21.136719 31.558594 C 21.203125 31.664062 21.898438 32.414062 22.222656 32.730469 C 23.835938 34.300781 25.5625 35.132812 27.582031 35.300781 C 27.90625 35.328125 27.9375 35.308594 28.007812 34.984375 C 28.382812 33.242188 27.625 30.925781 25.863281 28.425781 L 25.542969 27.96875 L 25.699219 27.785156 C 28.945312 23.960938 29.132812 18.699219 26.257812 11.96875 L 26.207031 11.84375 L 27.945312 12.703125 C 31.53125 14.476562 32.316406 14.800781 33.03125 14.800781 C 33.976562 14.800781 33.78125 13.9375 32.472656 12.292969 C 28.519531 7.355469 25.394531 5.925781 21.921875 7.472656 L 21.558594 7.636719 L 21.578125 7.542969 C 21.699219 6.992188 21.761719 5.742188 21.699219 5.164062 C 21.496094 3.296875 20.664062 1.964844 19.003906 0.855469 C 18.480469 0.503906 18.457031 0.5 18.214844 0.632812\"/>\n",
              "</g>\n",
              "      </svg>\n",
              "    "
            ],
            "text/plain": [
              "<IPython.core.display.HTML object>"
            ]
          },
          "metadata": {}
        }
      ]
    },
    {
      "cell_type": "code",
      "source": [
        "# centroid of the triangle\n",
        "\n",
        "def getcentroid(coords):\n",
        "    return tuple([sum(num)/3 for num in zip(*coords)])\n",
        "\n",
        "centroid = getcentroid(points)\n",
        "penup()\n",
        "goto(centroid)"
      ],
      "metadata": {
        "colab": {
          "base_uri": "https://localhost:8080/",
          "height": 521
        },
        "id": "Nk_pA5QeaW_n",
        "outputId": "4bdd298e-4fbe-4e49-e364-3c21726cf3c0"
      },
      "id": "Nk_pA5QeaW_n",
      "execution_count": null,
      "outputs": [
        {
          "output_type": "display_data",
          "data": {
            "text/html": [
              "\n",
              "      <svg width=\"800\" height=\"500\">\n",
              "        <rect width=\"100%\" height=\"100%\" fill=\"black\"/>\n",
              "        <line x1=\"250\" y1=\"350\" x2=\"250.0\" y2=\"125.0\" stroke-linecap=\"round\" style=\"stroke:white;stroke-width:4\"/><line x1=\"250.0\" y1=\"125.0\" x2=\"444.856\" y2=\"12.5\" stroke-linecap=\"round\" style=\"stroke:white;stroke-width:4\"/><line x1=\"444.856\" y1=\"12.5\" x2=\"639.712\" y2=\"125.0\" stroke-linecap=\"round\" style=\"stroke:white;stroke-width:4\"/><line x1=\"639.712\" y1=\"125.0\" x2=\"639.712\" y2=\"350.0\" stroke-linecap=\"round\" style=\"stroke:white;stroke-width:4\"/><line x1=\"639.712\" y1=\"350.0\" x2=\"444.856\" y2=\"462.5\" stroke-linecap=\"round\" style=\"stroke:white;stroke-width:4\"/><line x1=\"444.856\" y1=\"462.5\" x2=\"250.0\" y2=\"350.0\" stroke-linecap=\"round\" style=\"stroke:white;stroke-width:4\"/><line x1=\"500\" y1=\"200\" x2=\"444.856\" y2=\"12.5\" stroke-linecap=\"round\" style=\"stroke:white;stroke-width:4\"/><line x1=\"444.856\" y1=\"12.5\" x2=\"639.712\" y2=\"125.0\" stroke-linecap=\"round\" style=\"stroke:white;stroke-width:4\"/><line x1=\"639.712\" y1=\"125.0\" x2=\"500\" y2=\"200\" stroke-linecap=\"round\" style=\"stroke:white;stroke-width:4\"/>\n",
              "        <g visibility=visible transform=\"rotate(360.0,528.189,112.5) translate(510.18899999999996, 94.5)\">\n",
              "<path style=\" stroke:none;fill-rule:evenodd;fill:white;fill-opacity:1;\" d=\"M 18.214844 0.632812 C 16.109375 1.800781 15.011719 4.074219 15.074219 7.132812 L 15.085938 7.652344 L 14.785156 7.496094 C 13.476562 6.824219 11.957031 6.671875 10.40625 7.066406 C 8.46875 7.550781 6.515625 9.15625 4.394531 11.992188 C 3.0625 13.777344 2.679688 14.636719 3.042969 15.027344 L 3.15625 15.152344 L 3.519531 15.152344 C 4.238281 15.152344 4.828125 14.886719 8.1875 13.039062 C 9.386719 12.378906 10.371094 11.839844 10.378906 11.839844 C 10.386719 11.839844 10.355469 11.929688 10.304688 12.035156 C 9.832031 13.09375 9.257812 14.820312 8.96875 16.078125 C 7.914062 20.652344 8.617188 24.53125 11.070312 27.660156 C 11.351562 28.015625 11.363281 27.914062 10.972656 28.382812 C 8.925781 30.84375 7.945312 33.28125 8.238281 35.1875 C 8.289062 35.527344 8.28125 35.523438 8.917969 35.523438 C 10.941406 35.523438 13.074219 34.207031 15.136719 31.6875 C 15.359375 31.417969 15.328125 31.425781 15.5625 31.574219 C 16.292969 32.042969 18.023438 32.964844 18.175781 32.964844 C 18.335938 32.964844 19.941406 32.210938 20.828125 31.71875 C 20.996094 31.625 21.136719 31.554688 21.136719 31.558594 C 21.203125 31.664062 21.898438 32.414062 22.222656 32.730469 C 23.835938 34.300781 25.5625 35.132812 27.582031 35.300781 C 27.90625 35.328125 27.9375 35.308594 28.007812 34.984375 C 28.382812 33.242188 27.625 30.925781 25.863281 28.425781 L 25.542969 27.96875 L 25.699219 27.785156 C 28.945312 23.960938 29.132812 18.699219 26.257812 11.96875 L 26.207031 11.84375 L 27.945312 12.703125 C 31.53125 14.476562 32.316406 14.800781 33.03125 14.800781 C 33.976562 14.800781 33.78125 13.9375 32.472656 12.292969 C 28.519531 7.355469 25.394531 5.925781 21.921875 7.472656 L 21.558594 7.636719 L 21.578125 7.542969 C 21.699219 6.992188 21.761719 5.742188 21.699219 5.164062 C 21.496094 3.296875 20.664062 1.964844 19.003906 0.855469 C 18.480469 0.503906 18.457031 0.5 18.214844 0.632812\"/>\n",
              "</g>\n",
              "      </svg>\n",
              "    "
            ],
            "text/plain": [
              "<IPython.core.display.HTML object>"
            ]
          },
          "metadata": {}
        }
      ]
    },
    {
      "cell_type": "code",
      "source": [
        "# centroid as a random point of the triangle\n",
        "triangle(centroid)"
      ],
      "metadata": {
        "colab": {
          "base_uri": "https://localhost:8080/",
          "height": 521
        },
        "id": "_5hXcxgpacVu",
        "outputId": "f20a6e65-be26-40b6-b1ef-72f0fc013a9d"
      },
      "id": "_5hXcxgpacVu",
      "execution_count": null,
      "outputs": [
        {
          "output_type": "display_data",
          "data": {
            "text/html": [
              "\n",
              "      <svg width=\"800\" height=\"500\">\n",
              "        <rect width=\"100%\" height=\"100%\" fill=\"black\"/>\n",
              "        <line x1=\"250\" y1=\"350\" x2=\"250.0\" y2=\"125.0\" stroke-linecap=\"round\" style=\"stroke:white;stroke-width:4\"/><line x1=\"250.0\" y1=\"125.0\" x2=\"444.856\" y2=\"12.5\" stroke-linecap=\"round\" style=\"stroke:white;stroke-width:4\"/><line x1=\"444.856\" y1=\"12.5\" x2=\"639.712\" y2=\"125.0\" stroke-linecap=\"round\" style=\"stroke:white;stroke-width:4\"/><line x1=\"639.712\" y1=\"125.0\" x2=\"639.712\" y2=\"350.0\" stroke-linecap=\"round\" style=\"stroke:white;stroke-width:4\"/><line x1=\"639.712\" y1=\"350.0\" x2=\"444.856\" y2=\"462.5\" stroke-linecap=\"round\" style=\"stroke:white;stroke-width:4\"/><line x1=\"444.856\" y1=\"462.5\" x2=\"250.0\" y2=\"350.0\" stroke-linecap=\"round\" style=\"stroke:white;stroke-width:4\"/><line x1=\"500\" y1=\"200\" x2=\"444.856\" y2=\"12.5\" stroke-linecap=\"round\" style=\"stroke:white;stroke-width:4\"/><line x1=\"444.856\" y1=\"12.5\" x2=\"639.712\" y2=\"125.0\" stroke-linecap=\"round\" style=\"stroke:white;stroke-width:4\"/><line x1=\"639.712\" y1=\"125.0\" x2=\"500\" y2=\"200\" stroke-linecap=\"round\" style=\"stroke:white;stroke-width:4\"/><line x1=\"528.189\" y1=\"112.5\" x2=\"250.0\" y2=\"350.0\" stroke-linecap=\"round\" style=\"stroke:white;stroke-width:4\"/><line x1=\"250.0\" y1=\"350.0\" x2=\"250.0\" y2=\"125.0\" stroke-linecap=\"round\" style=\"stroke:white;stroke-width:4\"/><line x1=\"250.0\" y1=\"125.0\" x2=\"528.189\" y2=\"112.5\" stroke-linecap=\"round\" style=\"stroke:white;stroke-width:4\"/>\n",
              "        <g visibility=visible transform=\"rotate(360.0,528.189,112.5) translate(510.18899999999996, 94.5)\">\n",
              "<path style=\" stroke:none;fill-rule:evenodd;fill:white;fill-opacity:1;\" d=\"M 18.214844 0.632812 C 16.109375 1.800781 15.011719 4.074219 15.074219 7.132812 L 15.085938 7.652344 L 14.785156 7.496094 C 13.476562 6.824219 11.957031 6.671875 10.40625 7.066406 C 8.46875 7.550781 6.515625 9.15625 4.394531 11.992188 C 3.0625 13.777344 2.679688 14.636719 3.042969 15.027344 L 3.15625 15.152344 L 3.519531 15.152344 C 4.238281 15.152344 4.828125 14.886719 8.1875 13.039062 C 9.386719 12.378906 10.371094 11.839844 10.378906 11.839844 C 10.386719 11.839844 10.355469 11.929688 10.304688 12.035156 C 9.832031 13.09375 9.257812 14.820312 8.96875 16.078125 C 7.914062 20.652344 8.617188 24.53125 11.070312 27.660156 C 11.351562 28.015625 11.363281 27.914062 10.972656 28.382812 C 8.925781 30.84375 7.945312 33.28125 8.238281 35.1875 C 8.289062 35.527344 8.28125 35.523438 8.917969 35.523438 C 10.941406 35.523438 13.074219 34.207031 15.136719 31.6875 C 15.359375 31.417969 15.328125 31.425781 15.5625 31.574219 C 16.292969 32.042969 18.023438 32.964844 18.175781 32.964844 C 18.335938 32.964844 19.941406 32.210938 20.828125 31.71875 C 20.996094 31.625 21.136719 31.554688 21.136719 31.558594 C 21.203125 31.664062 21.898438 32.414062 22.222656 32.730469 C 23.835938 34.300781 25.5625 35.132812 27.582031 35.300781 C 27.90625 35.328125 27.9375 35.308594 28.007812 34.984375 C 28.382812 33.242188 27.625 30.925781 25.863281 28.425781 L 25.542969 27.96875 L 25.699219 27.785156 C 28.945312 23.960938 29.132812 18.699219 26.257812 11.96875 L 26.207031 11.84375 L 27.945312 12.703125 C 31.53125 14.476562 32.316406 14.800781 33.03125 14.800781 C 33.976562 14.800781 33.78125 13.9375 32.472656 12.292969 C 28.519531 7.355469 25.394531 5.925781 21.921875 7.472656 L 21.558594 7.636719 L 21.578125 7.542969 C 21.699219 6.992188 21.761719 5.742188 21.699219 5.164062 C 21.496094 3.296875 20.664062 1.964844 19.003906 0.855469 C 18.480469 0.503906 18.457031 0.5 18.214844 0.632812\"/>\n",
              "</g>\n",
              "      </svg>\n",
              "    "
            ],
            "text/plain": [
              "<IPython.core.display.HTML object>"
            ]
          },
          "metadata": {}
        }
      ]
    },
    {
      "cell_type": "code",
      "source": [
        "# drawing 10 multiple centroids\n",
        "\n",
        "for _ in range(100):\n",
        "    centroid = getcentroid(points)\n",
        "    penup()\n",
        "    goto(centroid)\n",
        "    \n",
        "    triangle(centroid)"
      ],
      "metadata": {
        "colab": {
          "base_uri": "https://localhost:8080/",
          "height": 521
        },
        "id": "VDs40Mz_aeja",
        "outputId": "55e4a204-3627-4998-f545-64e9ba6782b5"
      },
      "id": "VDs40Mz_aeja",
      "execution_count": null,
      "outputs": [
        {
          "output_type": "display_data",
          "data": {
            "text/html": [
              "\n",
              "      <svg width=\"800\" height=\"500\">\n",
              "        <rect width=\"100%\" height=\"100%\" fill=\"black\"/>\n",
              "        <line x1=\"250\" y1=\"350\" x2=\"250.0\" y2=\"125.0\" stroke-linecap=\"round\" style=\"stroke:white;stroke-width:4\"/><line x1=\"250.0\" y1=\"125.0\" x2=\"444.856\" y2=\"12.5\" stroke-linecap=\"round\" style=\"stroke:white;stroke-width:4\"/><line x1=\"444.856\" y1=\"12.5\" x2=\"639.712\" y2=\"125.0\" stroke-linecap=\"round\" style=\"stroke:white;stroke-width:4\"/><line x1=\"639.712\" y1=\"125.0\" x2=\"639.712\" y2=\"350.0\" stroke-linecap=\"round\" style=\"stroke:white;stroke-width:4\"/><line x1=\"639.712\" y1=\"350.0\" x2=\"444.856\" y2=\"462.5\" stroke-linecap=\"round\" style=\"stroke:white;stroke-width:4\"/><line x1=\"444.856\" y1=\"462.5\" x2=\"250.0\" y2=\"350.0\" stroke-linecap=\"round\" style=\"stroke:white;stroke-width:4\"/><line x1=\"500\" y1=\"200\" x2=\"444.856\" y2=\"12.5\" stroke-linecap=\"round\" style=\"stroke:white;stroke-width:4\"/><line x1=\"444.856\" y1=\"12.5\" x2=\"639.712\" y2=\"125.0\" stroke-linecap=\"round\" style=\"stroke:white;stroke-width:4\"/><line x1=\"639.712\" y1=\"125.0\" x2=\"500\" y2=\"200\" stroke-linecap=\"round\" style=\"stroke:white;stroke-width:4\"/><line x1=\"528.189\" y1=\"112.5\" x2=\"250.0\" y2=\"350.0\" stroke-linecap=\"round\" style=\"stroke:white;stroke-width:4\"/><line x1=\"250.0\" y1=\"350.0\" x2=\"250.0\" y2=\"125.0\" stroke-linecap=\"round\" style=\"stroke:white;stroke-width:4\"/><line x1=\"250.0\" y1=\"125.0\" x2=\"528.189\" y2=\"112.5\" stroke-linecap=\"round\" style=\"stroke:white;stroke-width:4\"/><line x1=\"342.73\" y1=\"195.833\" x2=\"250.0\" y2=\"350.0\" stroke-linecap=\"round\" style=\"stroke:white;stroke-width:4\"/><line x1=\"250.0\" y1=\"350.0\" x2=\"250.0\" y2=\"125.0\" stroke-linecap=\"round\" style=\"stroke:white;stroke-width:4\"/><line x1=\"250.0\" y1=\"125.0\" x2=\"342.73\" y2=\"195.833\" stroke-linecap=\"round\" style=\"stroke:white;stroke-width:4\"/><line x1=\"280.91\" y1=\"223.611\" x2=\"639.712\" y2=\"125.0\" stroke-linecap=\"round\" style=\"stroke:white;stroke-width:4\"/><line x1=\"639.712\" y1=\"125.0\" x2=\"639.712\" y2=\"350.0\" stroke-linecap=\"round\" style=\"stroke:white;stroke-width:4\"/><line x1=\"639.712\" y1=\"350.0\" x2=\"280.91\" y2=\"223.611\" stroke-linecap=\"round\" style=\"stroke:white;stroke-width:4\"/><line x1=\"520.111\" y1=\"232.87\" x2=\"250.0\" y2=\"125.0\" stroke-linecap=\"round\" style=\"stroke:white;stroke-width:4\"/><line x1=\"250.0\" y1=\"125.0\" x2=\"444.856\" y2=\"12.5\" stroke-linecap=\"round\" style=\"stroke:white;stroke-width:4\"/><line x1=\"444.856\" y1=\"12.5\" x2=\"520.111\" y2=\"232.87\" stroke-linecap=\"round\" style=\"stroke:white;stroke-width:4\"/><line x1=\"404.989\" y1=\"123.457\" x2=\"250.0\" y2=\"125.0\" stroke-linecap=\"round\" style=\"stroke:white;stroke-width:4\"/><line x1=\"250.0\" y1=\"125.0\" x2=\"444.856\" y2=\"12.5\" stroke-linecap=\"round\" style=\"stroke:white;stroke-width:4\"/><line x1=\"444.856\" y1=\"12.5\" x2=\"404.989\" y2=\"123.457\" stroke-linecap=\"round\" style=\"stroke:white;stroke-width:4\"/><line x1=\"366.615\" y1=\"86.986\" x2=\"250.0\" y2=\"350.0\" stroke-linecap=\"round\" style=\"stroke:white;stroke-width:4\"/><line x1=\"250.0\" y1=\"350.0\" x2=\"250.0\" y2=\"125.0\" stroke-linecap=\"round\" style=\"stroke:white;stroke-width:4\"/><line x1=\"250.0\" y1=\"125.0\" x2=\"366.615\" y2=\"86.986\" stroke-linecap=\"round\" style=\"stroke:white;stroke-width:4\"/><line x1=\"288.872\" y1=\"187.329\" x2=\"444.856\" y2=\"462.5\" stroke-linecap=\"round\" style=\"stroke:white;stroke-width:4\"/><line x1=\"444.856\" y1=\"462.5\" x2=\"250.0\" y2=\"350.0\" stroke-linecap=\"round\" style=\"stroke:white;stroke-width:4\"/><line x1=\"250.0\" y1=\"350.0\" x2=\"288.872\" y2=\"187.329\" stroke-linecap=\"round\" style=\"stroke:white;stroke-width:4\"/><line x1=\"327.909\" y1=\"333.276\" x2=\"250.0\" y2=\"350.0\" stroke-linecap=\"round\" style=\"stroke:white;stroke-width:4\"/><line x1=\"250.0\" y1=\"350.0\" x2=\"250.0\" y2=\"125.0\" stroke-linecap=\"round\" style=\"stroke:white;stroke-width:4\"/><line x1=\"250.0\" y1=\"125.0\" x2=\"327.909\" y2=\"333.276\" stroke-linecap=\"round\" style=\"stroke:white;stroke-width:4\"/><line x1=\"275.97\" y1=\"269.425\" x2=\"250.0\" y2=\"350.0\" stroke-linecap=\"round\" style=\"stroke:white;stroke-width:4\"/><line x1=\"250.0\" y1=\"350.0\" x2=\"250.0\" y2=\"125.0\" stroke-linecap=\"round\" style=\"stroke:white;stroke-width:4\"/><line x1=\"250.0\" y1=\"125.0\" x2=\"275.97\" y2=\"269.425\" stroke-linecap=\"round\" style=\"stroke:white;stroke-width:4\"/><line x1=\"258.657\" y1=\"248.142\" x2=\"639.712\" y2=\"125.0\" stroke-linecap=\"round\" style=\"stroke:white;stroke-width:4\"/><line x1=\"639.712\" y1=\"125.0\" x2=\"639.712\" y2=\"350.0\" stroke-linecap=\"round\" style=\"stroke:white;stroke-width:4\"/><line x1=\"639.712\" y1=\"350.0\" x2=\"258.657\" y2=\"248.142\" stroke-linecap=\"round\" style=\"stroke:white;stroke-width:4\"/><line x1=\"512.694\" y1=\"241.047\" x2=\"250.0\" y2=\"125.0\" stroke-linecap=\"round\" style=\"stroke:white;stroke-width:4\"/><line x1=\"250.0\" y1=\"125.0\" x2=\"444.856\" y2=\"12.5\" stroke-linecap=\"round\" style=\"stroke:white;stroke-width:4\"/><line x1=\"444.856\" y1=\"12.5\" x2=\"512.694\" y2=\"241.047\" stroke-linecap=\"round\" style=\"stroke:white;stroke-width:4\"/><line x1=\"402.517\" y1=\"126.182\" x2=\"250.0\" y2=\"350.0\" stroke-linecap=\"round\" style=\"stroke:white;stroke-width:4\"/><line x1=\"250.0\" y1=\"350.0\" x2=\"250.0\" y2=\"125.0\" stroke-linecap=\"round\" style=\"stroke:white;stroke-width:4\"/><line x1=\"250.0\" y1=\"125.0\" x2=\"402.517\" y2=\"126.182\" stroke-linecap=\"round\" style=\"stroke:white;stroke-width:4\"/><line x1=\"300.839\" y1=\"200.394\" x2=\"250.0\" y2=\"350.0\" stroke-linecap=\"round\" style=\"stroke:white;stroke-width:4\"/><line x1=\"250.0\" y1=\"350.0\" x2=\"250.0\" y2=\"125.0\" stroke-linecap=\"round\" style=\"stroke:white;stroke-width:4\"/><line x1=\"250.0\" y1=\"125.0\" x2=\"300.839\" y2=\"200.394\" stroke-linecap=\"round\" style=\"stroke:white;stroke-width:4\"/><line x1=\"266.946\" y1=\"225.131\" x2=\"250.0\" y2=\"350.0\" stroke-linecap=\"round\" style=\"stroke:white;stroke-width:4\"/><line x1=\"250.0\" y1=\"350.0\" x2=\"250.0\" y2=\"125.0\" stroke-linecap=\"round\" style=\"stroke:white;stroke-width:4\"/><line x1=\"250.0\" y1=\"125.0\" x2=\"266.946\" y2=\"225.131\" stroke-linecap=\"round\" style=\"stroke:white;stroke-width:4\"/><line x1=\"255.649\" y1=\"233.377\" x2=\"250.0\" y2=\"350.0\" stroke-linecap=\"round\" style=\"stroke:white;stroke-width:4\"/><line x1=\"250.0\" y1=\"350.0\" x2=\"250.0\" y2=\"125.0\" stroke-linecap=\"round\" style=\"stroke:white;stroke-width:4\"/><line x1=\"250.0\" y1=\"125.0\" x2=\"255.649\" y2=\"233.377\" stroke-linecap=\"round\" style=\"stroke:white;stroke-width:4\"/><line x1=\"251.883\" y1=\"236.126\" x2=\"444.856\" y2=\"462.5\" stroke-linecap=\"round\" style=\"stroke:white;stroke-width:4\"/><line x1=\"444.856\" y1=\"462.5\" x2=\"250.0\" y2=\"350.0\" stroke-linecap=\"round\" style=\"stroke:white;stroke-width:4\"/><line x1=\"250.0\" y1=\"350.0\" x2=\"251.883\" y2=\"236.126\" stroke-linecap=\"round\" style=\"stroke:white;stroke-width:4\"/><line x1=\"315.58\" y1=\"349.542\" x2=\"639.712\" y2=\"125.0\" stroke-linecap=\"round\" style=\"stroke:white;stroke-width:4\"/><line x1=\"639.712\" y1=\"125.0\" x2=\"639.712\" y2=\"350.0\" stroke-linecap=\"round\" style=\"stroke:white;stroke-width:4\"/><line x1=\"639.712\" y1=\"350.0\" x2=\"315.58\" y2=\"349.542\" stroke-linecap=\"round\" style=\"stroke:white;stroke-width:4\"/><line x1=\"531.668\" y1=\"274.847\" x2=\"250.0\" y2=\"350.0\" stroke-linecap=\"round\" style=\"stroke:white;stroke-width:4\"/><line x1=\"250.0\" y1=\"350.0\" x2=\"250.0\" y2=\"125.0\" stroke-linecap=\"round\" style=\"stroke:white;stroke-width:4\"/><line x1=\"250.0\" y1=\"125.0\" x2=\"531.668\" y2=\"274.847\" stroke-linecap=\"round\" style=\"stroke:white;stroke-width:4\"/><line x1=\"343.889\" y1=\"249.949\" x2=\"444.856\" y2=\"462.5\" stroke-linecap=\"round\" style=\"stroke:white;stroke-width:4\"/><line x1=\"444.856\" y1=\"462.5\" x2=\"250.0\" y2=\"350.0\" stroke-linecap=\"round\" style=\"stroke:white;stroke-width:4\"/><line x1=\"250.0\" y1=\"350.0\" x2=\"343.889\" y2=\"249.949\" stroke-linecap=\"round\" style=\"stroke:white;stroke-width:4\"/><line x1=\"346.248\" y1=\"354.15\" x2=\"639.712\" y2=\"350.0\" stroke-linecap=\"round\" style=\"stroke:white;stroke-width:4\"/><line x1=\"639.712\" y1=\"350.0\" x2=\"444.856\" y2=\"462.5\" stroke-linecap=\"round\" style=\"stroke:white;stroke-width:4\"/><line x1=\"444.856\" y1=\"462.5\" x2=\"346.248\" y2=\"354.15\" stroke-linecap=\"round\" style=\"stroke:white;stroke-width:4\"/><line x1=\"476.939\" y1=\"388.883\" x2=\"444.856\" y2=\"12.5\" stroke-linecap=\"round\" style=\"stroke:white;stroke-width:4\"/><line x1=\"444.856\" y1=\"12.5\" x2=\"639.712\" y2=\"125.0\" stroke-linecap=\"round\" style=\"stroke:white;stroke-width:4\"/><line x1=\"639.712\" y1=\"125.0\" x2=\"476.939\" y2=\"388.883\" stroke-linecap=\"round\" style=\"stroke:white;stroke-width:4\"/><line x1=\"520.502\" y1=\"175.461\" x2=\"444.856\" y2=\"12.5\" stroke-linecap=\"round\" style=\"stroke:white;stroke-width:4\"/><line x1=\"444.856\" y1=\"12.5\" x2=\"639.712\" y2=\"125.0\" stroke-linecap=\"round\" style=\"stroke:white;stroke-width:4\"/><line x1=\"639.712\" y1=\"125.0\" x2=\"520.502\" y2=\"175.461\" stroke-linecap=\"round\" style=\"stroke:white;stroke-width:4\"/><line x1=\"535.023\" y1=\"104.32\" x2=\"250.0\" y2=\"125.0\" stroke-linecap=\"round\" style=\"stroke:white;stroke-width:4\"/><line x1=\"250.0\" y1=\"125.0\" x2=\"444.856\" y2=\"12.5\" stroke-linecap=\"round\" style=\"stroke:white;stroke-width:4\"/><line x1=\"444.856\" y1=\"12.5\" x2=\"535.023\" y2=\"104.32\" stroke-linecap=\"round\" style=\"stroke:white;stroke-width:4\"/><line x1=\"409.96\" y1=\"80.607\" x2=\"444.856\" y2=\"462.5\" stroke-linecap=\"round\" style=\"stroke:white;stroke-width:4\"/><line x1=\"444.856\" y1=\"462.5\" x2=\"250.0\" y2=\"350.0\" stroke-linecap=\"round\" style=\"stroke:white;stroke-width:4\"/><line x1=\"250.0\" y1=\"350.0\" x2=\"409.96\" y2=\"80.607\" stroke-linecap=\"round\" style=\"stroke:white;stroke-width:4\"/><line x1=\"368.272\" y1=\"297.702\" x2=\"250.0\" y2=\"350.0\" stroke-linecap=\"round\" style=\"stroke:white;stroke-width:4\"/><line x1=\"250.0\" y1=\"350.0\" x2=\"250.0\" y2=\"125.0\" stroke-linecap=\"round\" style=\"stroke:white;stroke-width:4\"/><line x1=\"250.0\" y1=\"125.0\" x2=\"368.272\" y2=\"297.702\" stroke-linecap=\"round\" style=\"stroke:white;stroke-width:4\"/><line x1=\"289.424\" y1=\"257.567\" x2=\"639.712\" y2=\"350.0\" stroke-linecap=\"round\" style=\"stroke:white;stroke-width:4\"/><line x1=\"639.712\" y1=\"350.0\" x2=\"444.856\" y2=\"462.5\" stroke-linecap=\"round\" style=\"stroke:white;stroke-width:4\"/><line x1=\"444.856\" y1=\"462.5\" x2=\"289.424\" y2=\"257.567\" stroke-linecap=\"round\" style=\"stroke:white;stroke-width:4\"/><line x1=\"457.997\" y1=\"356.689\" x2=\"639.712\" y2=\"125.0\" stroke-linecap=\"round\" style=\"stroke:white;stroke-width:4\"/><line x1=\"639.712\" y1=\"125.0\" x2=\"639.712\" y2=\"350.0\" stroke-linecap=\"round\" style=\"stroke:white;stroke-width:4\"/><line x1=\"639.712\" y1=\"350.0\" x2=\"457.997\" y2=\"356.689\" stroke-linecap=\"round\" style=\"stroke:white;stroke-width:4\"/><line x1=\"579.14\" y1=\"277.23\" x2=\"639.712\" y2=\"125.0\" stroke-linecap=\"round\" style=\"stroke:white;stroke-width:4\"/><line x1=\"639.712\" y1=\"125.0\" x2=\"639.712\" y2=\"350.0\" stroke-linecap=\"round\" style=\"stroke:white;stroke-width:4\"/><line x1=\"639.712\" y1=\"350.0\" x2=\"579.14\" y2=\"277.23\" stroke-linecap=\"round\" style=\"stroke:white;stroke-width:4\"/><line x1=\"619.521\" y1=\"250.743\" x2=\"444.856\" y2=\"12.5\" stroke-linecap=\"round\" style=\"stroke:white;stroke-width:4\"/><line x1=\"444.856\" y1=\"12.5\" x2=\"639.712\" y2=\"125.0\" stroke-linecap=\"round\" style=\"stroke:white;stroke-width:4\"/><line x1=\"639.712\" y1=\"125.0\" x2=\"619.521\" y2=\"250.743\" stroke-linecap=\"round\" style=\"stroke:white;stroke-width:4\"/><line x1=\"568.03\" y1=\"129.414\" x2=\"250.0\" y2=\"125.0\" stroke-linecap=\"round\" style=\"stroke:white;stroke-width:4\"/><line x1=\"250.0\" y1=\"125.0\" x2=\"444.856\" y2=\"12.5\" stroke-linecap=\"round\" style=\"stroke:white;stroke-width:4\"/><line x1=\"444.856\" y1=\"12.5\" x2=\"568.03\" y2=\"129.414\" stroke-linecap=\"round\" style=\"stroke:white;stroke-width:4\"/><line x1=\"420.962\" y1=\"88.971\" x2=\"250.0\" y2=\"125.0\" stroke-linecap=\"round\" style=\"stroke:white;stroke-width:4\"/><line x1=\"250.0\" y1=\"125.0\" x2=\"444.856\" y2=\"12.5\" stroke-linecap=\"round\" style=\"stroke:white;stroke-width:4\"/><line x1=\"444.856\" y1=\"12.5\" x2=\"420.962\" y2=\"88.971\" stroke-linecap=\"round\" style=\"stroke:white;stroke-width:4\"/><line x1=\"371.939\" y1=\"75.49\" x2=\"639.712\" y2=\"350.0\" stroke-linecap=\"round\" style=\"stroke:white;stroke-width:4\"/><line x1=\"639.712\" y1=\"350.0\" x2=\"444.856\" y2=\"462.5\" stroke-linecap=\"round\" style=\"stroke:white;stroke-width:4\"/><line x1=\"444.856\" y1=\"462.5\" x2=\"371.939\" y2=\"75.49\" stroke-linecap=\"round\" style=\"stroke:white;stroke-width:4\"/><line x1=\"485.502\" y1=\"295.997\" x2=\"444.856\" y2=\"12.5\" stroke-linecap=\"round\" style=\"stroke:white;stroke-width:4\"/><line x1=\"444.856\" y1=\"12.5\" x2=\"639.712\" y2=\"125.0\" stroke-linecap=\"round\" style=\"stroke:white;stroke-width:4\"/><line x1=\"639.712\" y1=\"125.0\" x2=\"485.502\" y2=\"295.997\" stroke-linecap=\"round\" style=\"stroke:white;stroke-width:4\"/><line x1=\"523.357\" y1=\"144.499\" x2=\"250.0\" y2=\"350.0\" stroke-linecap=\"round\" style=\"stroke:white;stroke-width:4\"/><line x1=\"250.0\" y1=\"350.0\" x2=\"250.0\" y2=\"125.0\" stroke-linecap=\"round\" style=\"stroke:white;stroke-width:4\"/><line x1=\"250.0\" y1=\"125.0\" x2=\"523.357\" y2=\"144.499\" stroke-linecap=\"round\" style=\"stroke:white;stroke-width:4\"/><line x1=\"341.119\" y1=\"206.5\" x2=\"250.0\" y2=\"350.0\" stroke-linecap=\"round\" style=\"stroke:white;stroke-width:4\"/><line x1=\"250.0\" y1=\"350.0\" x2=\"250.0\" y2=\"125.0\" stroke-linecap=\"round\" style=\"stroke:white;stroke-width:4\"/><line x1=\"250.0\" y1=\"125.0\" x2=\"341.119\" y2=\"206.5\" stroke-linecap=\"round\" style=\"stroke:white;stroke-width:4\"/><line x1=\"280.373\" y1=\"227.167\" x2=\"250.0\" y2=\"125.0\" stroke-linecap=\"round\" style=\"stroke:white;stroke-width:4\"/><line x1=\"250.0\" y1=\"125.0\" x2=\"444.856\" y2=\"12.5\" stroke-linecap=\"round\" style=\"stroke:white;stroke-width:4\"/><line x1=\"444.856\" y1=\"12.5\" x2=\"280.373\" y2=\"227.167\" stroke-linecap=\"round\" style=\"stroke:white;stroke-width:4\"/><line x1=\"325.076\" y1=\"121.556\" x2=\"444.856\" y2=\"12.5\" stroke-linecap=\"round\" style=\"stroke:white;stroke-width:4\"/><line x1=\"444.856\" y1=\"12.5\" x2=\"639.712\" y2=\"125.0\" stroke-linecap=\"round\" style=\"stroke:white;stroke-width:4\"/><line x1=\"639.712\" y1=\"125.0\" x2=\"325.076\" y2=\"121.556\" stroke-linecap=\"round\" style=\"stroke:white;stroke-width:4\"/><line x1=\"469.881\" y1=\"86.352\" x2=\"444.856\" y2=\"12.5\" stroke-linecap=\"round\" style=\"stroke:white;stroke-width:4\"/><line x1=\"444.856\" y1=\"12.5\" x2=\"639.712\" y2=\"125.0\" stroke-linecap=\"round\" style=\"stroke:white;stroke-width:4\"/><line x1=\"639.712\" y1=\"125.0\" x2=\"469.881\" y2=\"86.352\" stroke-linecap=\"round\" style=\"stroke:white;stroke-width:4\"/><line x1=\"518.15\" y1=\"74.617\" x2=\"250.0\" y2=\"125.0\" stroke-linecap=\"round\" style=\"stroke:white;stroke-width:4\"/><line x1=\"250.0\" y1=\"125.0\" x2=\"444.856\" y2=\"12.5\" stroke-linecap=\"round\" style=\"stroke:white;stroke-width:4\"/><line x1=\"444.856\" y1=\"12.5\" x2=\"518.15\" y2=\"74.617\" stroke-linecap=\"round\" style=\"stroke:white;stroke-width:4\"/><line x1=\"404.335\" y1=\"70.706\" x2=\"250.0\" y2=\"350.0\" stroke-linecap=\"round\" style=\"stroke:white;stroke-width:4\"/><line x1=\"250.0\" y1=\"350.0\" x2=\"250.0\" y2=\"125.0\" stroke-linecap=\"round\" style=\"stroke:white;stroke-width:4\"/><line x1=\"250.0\" y1=\"125.0\" x2=\"404.335\" y2=\"70.706\" stroke-linecap=\"round\" style=\"stroke:white;stroke-width:4\"/><line x1=\"301.445\" y1=\"181.902\" x2=\"639.712\" y2=\"350.0\" stroke-linecap=\"round\" style=\"stroke:white;stroke-width:4\"/><line x1=\"639.712\" y1=\"350.0\" x2=\"444.856\" y2=\"462.5\" stroke-linecap=\"round\" style=\"stroke:white;stroke-width:4\"/><line x1=\"444.856\" y1=\"462.5\" x2=\"301.445\" y2=\"181.902\" stroke-linecap=\"round\" style=\"stroke:white;stroke-width:4\"/><line x1=\"462.004\" y1=\"331.467\" x2=\"250.0\" y2=\"350.0\" stroke-linecap=\"round\" style=\"stroke:white;stroke-width:4\"/><line x1=\"250.0\" y1=\"350.0\" x2=\"250.0\" y2=\"125.0\" stroke-linecap=\"round\" style=\"stroke:white;stroke-width:4\"/><line x1=\"250.0\" y1=\"125.0\" x2=\"462.004\" y2=\"331.467\" stroke-linecap=\"round\" style=\"stroke:white;stroke-width:4\"/><line x1=\"320.668\" y1=\"268.822\" x2=\"444.856\" y2=\"12.5\" stroke-linecap=\"round\" style=\"stroke:white;stroke-width:4\"/><line x1=\"444.856\" y1=\"12.5\" x2=\"639.712\" y2=\"125.0\" stroke-linecap=\"round\" style=\"stroke:white;stroke-width:4\"/><line x1=\"639.712\" y1=\"125.0\" x2=\"320.668\" y2=\"268.822\" stroke-linecap=\"round\" style=\"stroke:white;stroke-width:4\"/><line x1=\"468.412\" y1=\"135.441\" x2=\"639.712\" y2=\"125.0\" stroke-linecap=\"round\" style=\"stroke:white;stroke-width:4\"/><line x1=\"639.712\" y1=\"125.0\" x2=\"639.712\" y2=\"350.0\" stroke-linecap=\"round\" style=\"stroke:white;stroke-width:4\"/><line x1=\"639.712\" y1=\"350.0\" x2=\"468.412\" y2=\"135.441\" stroke-linecap=\"round\" style=\"stroke:white;stroke-width:4\"/><line x1=\"582.612\" y1=\"203.48\" x2=\"250.0\" y2=\"125.0\" stroke-linecap=\"round\" style=\"stroke:white;stroke-width:4\"/><line x1=\"250.0\" y1=\"125.0\" x2=\"444.856\" y2=\"12.5\" stroke-linecap=\"round\" style=\"stroke:white;stroke-width:4\"/><line x1=\"444.856\" y1=\"12.5\" x2=\"582.612\" y2=\"203.48\" stroke-linecap=\"round\" style=\"stroke:white;stroke-width:4\"/><line x1=\"425.823\" y1=\"113.66\" x2=\"250.0\" y2=\"125.0\" stroke-linecap=\"round\" style=\"stroke:white;stroke-width:4\"/><line x1=\"250.0\" y1=\"125.0\" x2=\"444.856\" y2=\"12.5\" stroke-linecap=\"round\" style=\"stroke:white;stroke-width:4\"/><line x1=\"444.856\" y1=\"12.5\" x2=\"425.823\" y2=\"113.66\" stroke-linecap=\"round\" style=\"stroke:white;stroke-width:4\"/><line x1=\"373.56\" y1=\"83.72\" x2=\"639.712\" y2=\"350.0\" stroke-linecap=\"round\" style=\"stroke:white;stroke-width:4\"/><line x1=\"639.712\" y1=\"350.0\" x2=\"444.856\" y2=\"462.5\" stroke-linecap=\"round\" style=\"stroke:white;stroke-width:4\"/><line x1=\"444.856\" y1=\"462.5\" x2=\"373.56\" y2=\"83.72\" stroke-linecap=\"round\" style=\"stroke:white;stroke-width:4\"/><line x1=\"486.043\" y1=\"298.74\" x2=\"444.856\" y2=\"12.5\" stroke-linecap=\"round\" style=\"stroke:white;stroke-width:4\"/><line x1=\"444.856\" y1=\"12.5\" x2=\"639.712\" y2=\"125.0\" stroke-linecap=\"round\" style=\"stroke:white;stroke-width:4\"/><line x1=\"639.712\" y1=\"125.0\" x2=\"486.043\" y2=\"298.74\" stroke-linecap=\"round\" style=\"stroke:white;stroke-width:4\"/><line x1=\"523.537\" y1=\"145.413\" x2=\"639.712\" y2=\"125.0\" stroke-linecap=\"round\" style=\"stroke:white;stroke-width:4\"/><line x1=\"639.712\" y1=\"125.0\" x2=\"639.712\" y2=\"350.0\" stroke-linecap=\"round\" style=\"stroke:white;stroke-width:4\"/><line x1=\"639.712\" y1=\"350.0\" x2=\"523.537\" y2=\"145.413\" stroke-linecap=\"round\" style=\"stroke:white;stroke-width:4\"/><line x1=\"600.987\" y1=\"206.804\" x2=\"250.0\" y2=\"350.0\" stroke-linecap=\"round\" style=\"stroke:white;stroke-width:4\"/><line x1=\"250.0\" y1=\"350.0\" x2=\"250.0\" y2=\"125.0\" stroke-linecap=\"round\" style=\"stroke:white;stroke-width:4\"/><line x1=\"250.0\" y1=\"125.0\" x2=\"600.987\" y2=\"206.804\" stroke-linecap=\"round\" style=\"stroke:white;stroke-width:4\"/><line x1=\"366.996\" y1=\"227.268\" x2=\"639.712\" y2=\"350.0\" stroke-linecap=\"round\" style=\"stroke:white;stroke-width:4\"/><line x1=\"639.712\" y1=\"350.0\" x2=\"444.856\" y2=\"462.5\" stroke-linecap=\"round\" style=\"stroke:white;stroke-width:4\"/><line x1=\"444.856\" y1=\"462.5\" x2=\"366.996\" y2=\"227.268\" stroke-linecap=\"round\" style=\"stroke:white;stroke-width:4\"/><line x1=\"483.855\" y1=\"346.589\" x2=\"444.856\" y2=\"12.5\" stroke-linecap=\"round\" style=\"stroke:white;stroke-width:4\"/><line x1=\"444.856\" y1=\"12.5\" x2=\"639.712\" y2=\"125.0\" stroke-linecap=\"round\" style=\"stroke:white;stroke-width:4\"/><line x1=\"639.712\" y1=\"125.0\" x2=\"483.855\" y2=\"346.589\" stroke-linecap=\"round\" style=\"stroke:white;stroke-width:4\"/><line x1=\"522.808\" y1=\"161.363\" x2=\"444.856\" y2=\"12.5\" stroke-linecap=\"round\" style=\"stroke:white;stroke-width:4\"/><line x1=\"444.856\" y1=\"12.5\" x2=\"639.712\" y2=\"125.0\" stroke-linecap=\"round\" style=\"stroke:white;stroke-width:4\"/><line x1=\"639.712\" y1=\"125.0\" x2=\"522.808\" y2=\"161.363\" stroke-linecap=\"round\" style=\"stroke:white;stroke-width:4\"/><line x1=\"535.792\" y1=\"99.621\" x2=\"444.856\" y2=\"12.5\" stroke-linecap=\"round\" style=\"stroke:white;stroke-width:4\"/><line x1=\"444.856\" y1=\"12.5\" x2=\"639.712\" y2=\"125.0\" stroke-linecap=\"round\" style=\"stroke:white;stroke-width:4\"/><line x1=\"639.712\" y1=\"125.0\" x2=\"535.792\" y2=\"99.621\" stroke-linecap=\"round\" style=\"stroke:white;stroke-width:4\"/><line x1=\"540.12\" y1=\"79.04\" x2=\"250.0\" y2=\"125.0\" stroke-linecap=\"round\" style=\"stroke:white;stroke-width:4\"/><line x1=\"250.0\" y1=\"125.0\" x2=\"444.856\" y2=\"12.5\" stroke-linecap=\"round\" style=\"stroke:white;stroke-width:4\"/><line x1=\"444.856\" y1=\"12.5\" x2=\"540.12\" y2=\"79.04\" stroke-linecap=\"round\" style=\"stroke:white;stroke-width:4\"/><line x1=\"411.659\" y1=\"72.18\" x2=\"250.0\" y2=\"125.0\" stroke-linecap=\"round\" style=\"stroke:white;stroke-width:4\"/><line x1=\"250.0\" y1=\"125.0\" x2=\"444.856\" y2=\"12.5\" stroke-linecap=\"round\" style=\"stroke:white;stroke-width:4\"/><line x1=\"444.856\" y1=\"12.5\" x2=\"411.659\" y2=\"72.18\" stroke-linecap=\"round\" style=\"stroke:white;stroke-width:4\"/><line x1=\"368.838\" y1=\"69.893\" x2=\"639.712\" y2=\"350.0\" stroke-linecap=\"round\" style=\"stroke:white;stroke-width:4\"/><line x1=\"639.712\" y1=\"350.0\" x2=\"444.856\" y2=\"462.5\" stroke-linecap=\"round\" style=\"stroke:white;stroke-width:4\"/><line x1=\"444.856\" y1=\"462.5\" x2=\"368.838\" y2=\"69.893\" stroke-linecap=\"round\" style=\"stroke:white;stroke-width:4\"/><line x1=\"484.469\" y1=\"294.131\" x2=\"639.712\" y2=\"125.0\" stroke-linecap=\"round\" style=\"stroke:white;stroke-width:4\"/><line x1=\"639.712\" y1=\"125.0\" x2=\"639.712\" y2=\"350.0\" stroke-linecap=\"round\" style=\"stroke:white;stroke-width:4\"/><line x1=\"639.712\" y1=\"350.0\" x2=\"484.469\" y2=\"294.131\" stroke-linecap=\"round\" style=\"stroke:white;stroke-width:4\"/><line x1=\"587.964\" y1=\"256.377\" x2=\"444.856\" y2=\"12.5\" stroke-linecap=\"round\" style=\"stroke:white;stroke-width:4\"/><line x1=\"444.856\" y1=\"12.5\" x2=\"639.712\" y2=\"125.0\" stroke-linecap=\"round\" style=\"stroke:white;stroke-width:4\"/><line x1=\"639.712\" y1=\"125.0\" x2=\"587.964\" y2=\"256.377\" stroke-linecap=\"round\" style=\"stroke:white;stroke-width:4\"/><line x1=\"557.511\" y1=\"131.292\" x2=\"250.0\" y2=\"125.0\" stroke-linecap=\"round\" style=\"stroke:white;stroke-width:4\"/><line x1=\"250.0\" y1=\"125.0\" x2=\"444.856\" y2=\"12.5\" stroke-linecap=\"round\" style=\"stroke:white;stroke-width:4\"/><line x1=\"444.856\" y1=\"12.5\" x2=\"557.511\" y2=\"131.292\" stroke-linecap=\"round\" style=\"stroke:white;stroke-width:4\"/><line x1=\"417.456\" y1=\"89.597\" x2=\"444.856\" y2=\"462.5\" stroke-linecap=\"round\" style=\"stroke:white;stroke-width:4\"/><line x1=\"444.856\" y1=\"462.5\" x2=\"250.0\" y2=\"350.0\" stroke-linecap=\"round\" style=\"stroke:white;stroke-width:4\"/><line x1=\"250.0\" y1=\"350.0\" x2=\"417.456\" y2=\"89.597\" stroke-linecap=\"round\" style=\"stroke:white;stroke-width:4\"/><line x1=\"370.771\" y1=\"300.699\" x2=\"444.856\" y2=\"462.5\" stroke-linecap=\"round\" style=\"stroke:white;stroke-width:4\"/><line x1=\"444.856\" y1=\"462.5\" x2=\"250.0\" y2=\"350.0\" stroke-linecap=\"round\" style=\"stroke:white;stroke-width:4\"/><line x1=\"250.0\" y1=\"350.0\" x2=\"370.771\" y2=\"300.699\" stroke-linecap=\"round\" style=\"stroke:white;stroke-width:4\"/><line x1=\"355.209\" y1=\"371.066\" x2=\"639.712\" y2=\"350.0\" stroke-linecap=\"round\" style=\"stroke:white;stroke-width:4\"/><line x1=\"639.712\" y1=\"350.0\" x2=\"444.856\" y2=\"462.5\" stroke-linecap=\"round\" style=\"stroke:white;stroke-width:4\"/><line x1=\"444.856\" y1=\"462.5\" x2=\"355.209\" y2=\"371.066\" stroke-linecap=\"round\" style=\"stroke:white;stroke-width:4\"/><line x1=\"479.926\" y1=\"394.522\" x2=\"250.0\" y2=\"350.0\" stroke-linecap=\"round\" style=\"stroke:white;stroke-width:4\"/><line x1=\"250.0\" y1=\"350.0\" x2=\"250.0\" y2=\"125.0\" stroke-linecap=\"round\" style=\"stroke:white;stroke-width:4\"/><line x1=\"250.0\" y1=\"125.0\" x2=\"479.926\" y2=\"394.522\" stroke-linecap=\"round\" style=\"stroke:white;stroke-width:4\"/><line x1=\"326.642\" y1=\"289.841\" x2=\"444.856\" y2=\"462.5\" stroke-linecap=\"round\" style=\"stroke:white;stroke-width:4\"/><line x1=\"444.856\" y1=\"462.5\" x2=\"250.0\" y2=\"350.0\" stroke-linecap=\"round\" style=\"stroke:white;stroke-width:4\"/><line x1=\"250.0\" y1=\"350.0\" x2=\"326.642\" y2=\"289.841\" stroke-linecap=\"round\" style=\"stroke:white;stroke-width:4\"/><line x1=\"340.499\" y1=\"367.447\" x2=\"639.712\" y2=\"350.0\" stroke-linecap=\"round\" style=\"stroke:white;stroke-width:4\"/><line x1=\"639.712\" y1=\"350.0\" x2=\"444.856\" y2=\"462.5\" stroke-linecap=\"round\" style=\"stroke:white;stroke-width:4\"/><line x1=\"444.856\" y1=\"462.5\" x2=\"340.499\" y2=\"367.447\" stroke-linecap=\"round\" style=\"stroke:white;stroke-width:4\"/><line x1=\"475.022\" y1=\"393.316\" x2=\"639.712\" y2=\"125.0\" stroke-linecap=\"round\" style=\"stroke:white;stroke-width:4\"/><line x1=\"639.712\" y1=\"125.0\" x2=\"639.712\" y2=\"350.0\" stroke-linecap=\"round\" style=\"stroke:white;stroke-width:4\"/><line x1=\"639.712\" y1=\"350.0\" x2=\"475.022\" y2=\"393.316\" stroke-linecap=\"round\" style=\"stroke:white;stroke-width:4\"/><line x1=\"584.815\" y1=\"289.439\" x2=\"250.0\" y2=\"350.0\" stroke-linecap=\"round\" style=\"stroke:white;stroke-width:4\"/><line x1=\"250.0\" y1=\"350.0\" x2=\"250.0\" y2=\"125.0\" stroke-linecap=\"round\" style=\"stroke:white;stroke-width:4\"/><line x1=\"250.0\" y1=\"125.0\" x2=\"584.815\" y2=\"289.439\" stroke-linecap=\"round\" style=\"stroke:white;stroke-width:4\"/><line x1=\"361.605\" y1=\"254.813\" x2=\"250.0\" y2=\"350.0\" stroke-linecap=\"round\" style=\"stroke:white;stroke-width:4\"/><line x1=\"250.0\" y1=\"350.0\" x2=\"250.0\" y2=\"125.0\" stroke-linecap=\"round\" style=\"stroke:white;stroke-width:4\"/><line x1=\"250.0\" y1=\"125.0\" x2=\"361.605\" y2=\"254.813\" stroke-linecap=\"round\" style=\"stroke:white;stroke-width:4\"/><line x1=\"287.202\" y1=\"243.271\" x2=\"444.856\" y2=\"12.5\" stroke-linecap=\"round\" style=\"stroke:white;stroke-width:4\"/><line x1=\"444.856\" y1=\"12.5\" x2=\"639.712\" y2=\"125.0\" stroke-linecap=\"round\" style=\"stroke:white;stroke-width:4\"/><line x1=\"639.712\" y1=\"125.0\" x2=\"287.202\" y2=\"243.271\" stroke-linecap=\"round\" style=\"stroke:white;stroke-width:4\"/><line x1=\"457.257\" y1=\"126.924\" x2=\"250.0\" y2=\"125.0\" stroke-linecap=\"round\" style=\"stroke:white;stroke-width:4\"/><line x1=\"250.0\" y1=\"125.0\" x2=\"444.856\" y2=\"12.5\" stroke-linecap=\"round\" style=\"stroke:white;stroke-width:4\"/><line x1=\"444.856\" y1=\"12.5\" x2=\"457.257\" y2=\"126.924\" stroke-linecap=\"round\" style=\"stroke:white;stroke-width:4\"/><line x1=\"384.038\" y1=\"88.141\" x2=\"639.712\" y2=\"125.0\" stroke-linecap=\"round\" style=\"stroke:white;stroke-width:4\"/><line x1=\"639.712\" y1=\"125.0\" x2=\"639.712\" y2=\"350.0\" stroke-linecap=\"round\" style=\"stroke:white;stroke-width:4\"/><line x1=\"639.712\" y1=\"350.0\" x2=\"384.038\" y2=\"88.141\" stroke-linecap=\"round\" style=\"stroke:white;stroke-width:4\"/><line x1=\"554.487\" y1=\"187.714\" x2=\"444.856\" y2=\"462.5\" stroke-linecap=\"round\" style=\"stroke:white;stroke-width:4\"/><line x1=\"444.856\" y1=\"462.5\" x2=\"250.0\" y2=\"350.0\" stroke-linecap=\"round\" style=\"stroke:white;stroke-width:4\"/><line x1=\"250.0\" y1=\"350.0\" x2=\"554.487\" y2=\"187.714\" stroke-linecap=\"round\" style=\"stroke:white;stroke-width:4\"/><line x1=\"416.448\" y1=\"333.405\" x2=\"250.0\" y2=\"350.0\" stroke-linecap=\"round\" style=\"stroke:white;stroke-width:4\"/><line x1=\"250.0\" y1=\"350.0\" x2=\"250.0\" y2=\"125.0\" stroke-linecap=\"round\" style=\"stroke:white;stroke-width:4\"/><line x1=\"250.0\" y1=\"125.0\" x2=\"416.448\" y2=\"333.405\" stroke-linecap=\"round\" style=\"stroke:white;stroke-width:4\"/><line x1=\"305.483\" y1=\"269.468\" x2=\"250.0\" y2=\"125.0\" stroke-linecap=\"round\" style=\"stroke:white;stroke-width:4\"/><line x1=\"250.0\" y1=\"125.0\" x2=\"444.856\" y2=\"12.5\" stroke-linecap=\"round\" style=\"stroke:white;stroke-width:4\"/><line x1=\"444.856\" y1=\"12.5\" x2=\"305.483\" y2=\"269.468\" stroke-linecap=\"round\" style=\"stroke:white;stroke-width:4\"/><line x1=\"333.446\" y1=\"135.656\" x2=\"250.0\" y2=\"350.0\" stroke-linecap=\"round\" style=\"stroke:white;stroke-width:4\"/><line x1=\"250.0\" y1=\"350.0\" x2=\"250.0\" y2=\"125.0\" stroke-linecap=\"round\" style=\"stroke:white;stroke-width:4\"/><line x1=\"250.0\" y1=\"125.0\" x2=\"333.446\" y2=\"135.656\" stroke-linecap=\"round\" style=\"stroke:white;stroke-width:4\"/><line x1=\"277.815\" y1=\"203.552\" x2=\"250.0\" y2=\"125.0\" stroke-linecap=\"round\" style=\"stroke:white;stroke-width:4\"/><line x1=\"250.0\" y1=\"125.0\" x2=\"444.856\" y2=\"12.5\" stroke-linecap=\"round\" style=\"stroke:white;stroke-width:4\"/><line x1=\"444.856\" y1=\"12.5\" x2=\"277.815\" y2=\"203.552\" stroke-linecap=\"round\" style=\"stroke:white;stroke-width:4\"/><line x1=\"324.224\" y1=\"113.684\" x2=\"639.712\" y2=\"125.0\" stroke-linecap=\"round\" style=\"stroke:white;stroke-width:4\"/><line x1=\"639.712\" y1=\"125.0\" x2=\"639.712\" y2=\"350.0\" stroke-linecap=\"round\" style=\"stroke:white;stroke-width:4\"/><line x1=\"639.712\" y1=\"350.0\" x2=\"324.224\" y2=\"113.684\" stroke-linecap=\"round\" style=\"stroke:white;stroke-width:4\"/><line x1=\"534.549\" y1=\"196.228\" x2=\"444.856\" y2=\"462.5\" stroke-linecap=\"round\" style=\"stroke:white;stroke-width:4\"/><line x1=\"444.856\" y1=\"462.5\" x2=\"250.0\" y2=\"350.0\" stroke-linecap=\"round\" style=\"stroke:white;stroke-width:4\"/><line x1=\"250.0\" y1=\"350.0\" x2=\"534.549\" y2=\"196.228\" stroke-linecap=\"round\" style=\"stroke:white;stroke-width:4\"/><line x1=\"409.802\" y1=\"336.243\" x2=\"639.712\" y2=\"350.0\" stroke-linecap=\"round\" style=\"stroke:white;stroke-width:4\"/><line x1=\"639.712\" y1=\"350.0\" x2=\"444.856\" y2=\"462.5\" stroke-linecap=\"round\" style=\"stroke:white;stroke-width:4\"/><line x1=\"444.856\" y1=\"462.5\" x2=\"409.802\" y2=\"336.243\" stroke-linecap=\"round\" style=\"stroke:white;stroke-width:4\"/><line x1=\"498.123\" y1=\"382.914\" x2=\"639.712\" y2=\"125.0\" stroke-linecap=\"round\" style=\"stroke:white;stroke-width:4\"/><line x1=\"639.712\" y1=\"125.0\" x2=\"639.712\" y2=\"350.0\" stroke-linecap=\"round\" style=\"stroke:white;stroke-width:4\"/><line x1=\"639.712\" y1=\"350.0\" x2=\"498.123\" y2=\"382.914\" stroke-linecap=\"round\" style=\"stroke:white;stroke-width:4\"/><line x1=\"592.516\" y1=\"285.971\" x2=\"444.856\" y2=\"462.5\" stroke-linecap=\"round\" style=\"stroke:white;stroke-width:4\"/><line x1=\"444.856\" y1=\"462.5\" x2=\"250.0\" y2=\"350.0\" stroke-linecap=\"round\" style=\"stroke:white;stroke-width:4\"/><line x1=\"250.0\" y1=\"350.0\" x2=\"592.516\" y2=\"285.971\" stroke-linecap=\"round\" style=\"stroke:white;stroke-width:4\"/><line x1=\"429.124\" y1=\"366.157\" x2=\"639.712\" y2=\"125.0\" stroke-linecap=\"round\" style=\"stroke:white;stroke-width:4\"/><line x1=\"639.712\" y1=\"125.0\" x2=\"639.712\" y2=\"350.0\" stroke-linecap=\"round\" style=\"stroke:white;stroke-width:4\"/><line x1=\"639.712\" y1=\"350.0\" x2=\"429.124\" y2=\"366.157\" stroke-linecap=\"round\" style=\"stroke:white;stroke-width:4\"/><line x1=\"569.516\" y1=\"280.386\" x2=\"639.712\" y2=\"125.0\" stroke-linecap=\"round\" style=\"stroke:white;stroke-width:4\"/><line x1=\"639.712\" y1=\"125.0\" x2=\"639.712\" y2=\"350.0\" stroke-linecap=\"round\" style=\"stroke:white;stroke-width:4\"/><line x1=\"639.712\" y1=\"350.0\" x2=\"569.516\" y2=\"280.386\" stroke-linecap=\"round\" style=\"stroke:white;stroke-width:4\"/><line x1=\"616.313\" y1=\"251.795\" x2=\"639.712\" y2=\"125.0\" stroke-linecap=\"round\" style=\"stroke:white;stroke-width:4\"/><line x1=\"639.712\" y1=\"125.0\" x2=\"639.712\" y2=\"350.0\" stroke-linecap=\"round\" style=\"stroke:white;stroke-width:4\"/><line x1=\"639.712\" y1=\"350.0\" x2=\"616.313\" y2=\"251.795\" stroke-linecap=\"round\" style=\"stroke:white;stroke-width:4\"/><line x1=\"631.912\" y1=\"242.265\" x2=\"444.856\" y2=\"12.5\" stroke-linecap=\"round\" style=\"stroke:white;stroke-width:4\"/><line x1=\"444.856\" y1=\"12.5\" x2=\"639.712\" y2=\"125.0\" stroke-linecap=\"round\" style=\"stroke:white;stroke-width:4\"/><line x1=\"639.712\" y1=\"125.0\" x2=\"631.912\" y2=\"242.265\" stroke-linecap=\"round\" style=\"stroke:white;stroke-width:4\"/><line x1=\"572.16\" y1=\"126.588\" x2=\"250.0\" y2=\"350.0\" stroke-linecap=\"round\" style=\"stroke:white;stroke-width:4\"/><line x1=\"250.0\" y1=\"350.0\" x2=\"250.0\" y2=\"125.0\" stroke-linecap=\"round\" style=\"stroke:white;stroke-width:4\"/><line x1=\"250.0\" y1=\"125.0\" x2=\"572.16\" y2=\"126.588\" stroke-linecap=\"round\" style=\"stroke:white;stroke-width:4\"/><line x1=\"357.387\" y1=\"200.529\" x2=\"444.856\" y2=\"12.5\" stroke-linecap=\"round\" style=\"stroke:white;stroke-width:4\"/><line x1=\"444.856\" y1=\"12.5\" x2=\"639.712\" y2=\"125.0\" stroke-linecap=\"round\" style=\"stroke:white;stroke-width:4\"/><line x1=\"639.712\" y1=\"125.0\" x2=\"357.387\" y2=\"200.529\" stroke-linecap=\"round\" style=\"stroke:white;stroke-width:4\"/><line x1=\"480.652\" y1=\"112.676\" x2=\"639.712\" y2=\"125.0\" stroke-linecap=\"round\" style=\"stroke:white;stroke-width:4\"/><line x1=\"639.712\" y1=\"125.0\" x2=\"639.712\" y2=\"350.0\" stroke-linecap=\"round\" style=\"stroke:white;stroke-width:4\"/><line x1=\"639.712\" y1=\"350.0\" x2=\"480.652\" y2=\"112.676\" stroke-linecap=\"round\" style=\"stroke:white;stroke-width:4\"/><line x1=\"586.692\" y1=\"195.892\" x2=\"250.0\" y2=\"125.0\" stroke-linecap=\"round\" style=\"stroke:white;stroke-width:4\"/><line x1=\"250.0\" y1=\"125.0\" x2=\"444.856\" y2=\"12.5\" stroke-linecap=\"round\" style=\"stroke:white;stroke-width:4\"/><line x1=\"444.856\" y1=\"12.5\" x2=\"586.692\" y2=\"195.892\" stroke-linecap=\"round\" style=\"stroke:white;stroke-width:4\"/><line x1=\"427.183\" y1=\"111.131\" x2=\"639.712\" y2=\"350.0\" stroke-linecap=\"round\" style=\"stroke:white;stroke-width:4\"/><line x1=\"639.712\" y1=\"350.0\" x2=\"444.856\" y2=\"462.5\" stroke-linecap=\"round\" style=\"stroke:white;stroke-width:4\"/><line x1=\"444.856\" y1=\"462.5\" x2=\"427.183\" y2=\"111.131\" stroke-linecap=\"round\" style=\"stroke:white;stroke-width:4\"/><line x1=\"503.917\" y1=\"307.877\" x2=\"250.0\" y2=\"125.0\" stroke-linecap=\"round\" style=\"stroke:white;stroke-width:4\"/><line x1=\"250.0\" y1=\"125.0\" x2=\"444.856\" y2=\"12.5\" stroke-linecap=\"round\" style=\"stroke:white;stroke-width:4\"/><line x1=\"444.856\" y1=\"12.5\" x2=\"503.917\" y2=\"307.877\" stroke-linecap=\"round\" style=\"stroke:white;stroke-width:4\"/><line x1=\"399.591\" y1=\"148.459\" x2=\"444.856\" y2=\"12.5\" stroke-linecap=\"round\" style=\"stroke:white;stroke-width:4\"/><line x1=\"444.856\" y1=\"12.5\" x2=\"639.712\" y2=\"125.0\" stroke-linecap=\"round\" style=\"stroke:white;stroke-width:4\"/><line x1=\"639.712\" y1=\"125.0\" x2=\"399.591\" y2=\"148.459\" stroke-linecap=\"round\" style=\"stroke:white;stroke-width:4\"/><line x1=\"494.72\" y1=\"95.32\" x2=\"444.856\" y2=\"12.5\" stroke-linecap=\"round\" style=\"stroke:white;stroke-width:4\"/><line x1=\"444.856\" y1=\"12.5\" x2=\"639.712\" y2=\"125.0\" stroke-linecap=\"round\" style=\"stroke:white;stroke-width:4\"/><line x1=\"639.712\" y1=\"125.0\" x2=\"494.72\" y2=\"95.32\" stroke-linecap=\"round\" style=\"stroke:white;stroke-width:4\"/><line x1=\"526.429\" y1=\"77.607\" x2=\"444.856\" y2=\"462.5\" stroke-linecap=\"round\" style=\"stroke:white;stroke-width:4\"/><line x1=\"444.856\" y1=\"462.5\" x2=\"250.0\" y2=\"350.0\" stroke-linecap=\"round\" style=\"stroke:white;stroke-width:4\"/><line x1=\"250.0\" y1=\"350.0\" x2=\"526.429\" y2=\"77.607\" stroke-linecap=\"round\" style=\"stroke:white;stroke-width:4\"/><line x1=\"407.095\" y1=\"296.702\" x2=\"639.712\" y2=\"125.0\" stroke-linecap=\"round\" style=\"stroke:white;stroke-width:4\"/><line x1=\"639.712\" y1=\"125.0\" x2=\"639.712\" y2=\"350.0\" stroke-linecap=\"round\" style=\"stroke:white;stroke-width:4\"/><line x1=\"639.712\" y1=\"350.0\" x2=\"407.095\" y2=\"296.702\" stroke-linecap=\"round\" style=\"stroke:white;stroke-width:4\"/><line x1=\"562.173\" y1=\"257.234\" x2=\"250.0\" y2=\"125.0\" stroke-linecap=\"round\" style=\"stroke:white;stroke-width:4\"/><line x1=\"250.0\" y1=\"125.0\" x2=\"444.856\" y2=\"12.5\" stroke-linecap=\"round\" style=\"stroke:white;stroke-width:4\"/><line x1=\"444.856\" y1=\"12.5\" x2=\"562.173\" y2=\"257.234\" stroke-linecap=\"round\" style=\"stroke:white;stroke-width:4\"/><line x1=\"419.01\" y1=\"131.578\" x2=\"444.856\" y2=\"12.5\" stroke-linecap=\"round\" style=\"stroke:white;stroke-width:4\"/><line x1=\"444.856\" y1=\"12.5\" x2=\"639.712\" y2=\"125.0\" stroke-linecap=\"round\" style=\"stroke:white;stroke-width:4\"/><line x1=\"639.712\" y1=\"125.0\" x2=\"419.01\" y2=\"131.578\" stroke-linecap=\"round\" style=\"stroke:white;stroke-width:4\"/><line x1=\"501.193\" y1=\"89.693\" x2=\"444.856\" y2=\"12.5\" stroke-linecap=\"round\" style=\"stroke:white;stroke-width:4\"/><line x1=\"444.856\" y1=\"12.5\" x2=\"639.712\" y2=\"125.0\" stroke-linecap=\"round\" style=\"stroke:white;stroke-width:4\"/><line x1=\"639.712\" y1=\"125.0\" x2=\"501.193\" y2=\"89.693\" stroke-linecap=\"round\" style=\"stroke:white;stroke-width:4\"/><line x1=\"528.587\" y1=\"75.731\" x2=\"250.0\" y2=\"350.0\" stroke-linecap=\"round\" style=\"stroke:white;stroke-width:4\"/><line x1=\"250.0\" y1=\"350.0\" x2=\"250.0\" y2=\"125.0\" stroke-linecap=\"round\" style=\"stroke:white;stroke-width:4\"/><line x1=\"250.0\" y1=\"125.0\" x2=\"528.587\" y2=\"75.731\" stroke-linecap=\"round\" style=\"stroke:white;stroke-width:4\"/><line x1=\"342.862\" y1=\"183.577\" x2=\"444.856\" y2=\"462.5\" stroke-linecap=\"round\" style=\"stroke:white;stroke-width:4\"/><line x1=\"444.856\" y1=\"462.5\" x2=\"250.0\" y2=\"350.0\" stroke-linecap=\"round\" style=\"stroke:white;stroke-width:4\"/><line x1=\"250.0\" y1=\"350.0\" x2=\"342.862\" y2=\"183.577\" stroke-linecap=\"round\" style=\"stroke:white;stroke-width:4\"/>\n",
              "        <g visibility=visible transform=\"rotate(360.0,342.862,183.577) translate(324.862, 165.577)\">\n",
              "<path style=\" stroke:none;fill-rule:evenodd;fill:white;fill-opacity:1;\" d=\"M 18.214844 0.632812 C 16.109375 1.800781 15.011719 4.074219 15.074219 7.132812 L 15.085938 7.652344 L 14.785156 7.496094 C 13.476562 6.824219 11.957031 6.671875 10.40625 7.066406 C 8.46875 7.550781 6.515625 9.15625 4.394531 11.992188 C 3.0625 13.777344 2.679688 14.636719 3.042969 15.027344 L 3.15625 15.152344 L 3.519531 15.152344 C 4.238281 15.152344 4.828125 14.886719 8.1875 13.039062 C 9.386719 12.378906 10.371094 11.839844 10.378906 11.839844 C 10.386719 11.839844 10.355469 11.929688 10.304688 12.035156 C 9.832031 13.09375 9.257812 14.820312 8.96875 16.078125 C 7.914062 20.652344 8.617188 24.53125 11.070312 27.660156 C 11.351562 28.015625 11.363281 27.914062 10.972656 28.382812 C 8.925781 30.84375 7.945312 33.28125 8.238281 35.1875 C 8.289062 35.527344 8.28125 35.523438 8.917969 35.523438 C 10.941406 35.523438 13.074219 34.207031 15.136719 31.6875 C 15.359375 31.417969 15.328125 31.425781 15.5625 31.574219 C 16.292969 32.042969 18.023438 32.964844 18.175781 32.964844 C 18.335938 32.964844 19.941406 32.210938 20.828125 31.71875 C 20.996094 31.625 21.136719 31.554688 21.136719 31.558594 C 21.203125 31.664062 21.898438 32.414062 22.222656 32.730469 C 23.835938 34.300781 25.5625 35.132812 27.582031 35.300781 C 27.90625 35.328125 27.9375 35.308594 28.007812 34.984375 C 28.382812 33.242188 27.625 30.925781 25.863281 28.425781 L 25.542969 27.96875 L 25.699219 27.785156 C 28.945312 23.960938 29.132812 18.699219 26.257812 11.96875 L 26.207031 11.84375 L 27.945312 12.703125 C 31.53125 14.476562 32.316406 14.800781 33.03125 14.800781 C 33.976562 14.800781 33.78125 13.9375 32.472656 12.292969 C 28.519531 7.355469 25.394531 5.925781 21.921875 7.472656 L 21.558594 7.636719 L 21.578125 7.542969 C 21.699219 6.992188 21.761719 5.742188 21.699219 5.164062 C 21.496094 3.296875 20.664062 1.964844 19.003906 0.855469 C 18.480469 0.503906 18.457031 0.5 18.214844 0.632812\"/>\n",
              "</g>\n",
              "      </svg>\n",
              "    "
            ],
            "text/plain": [
              "<IPython.core.display.HTML object>"
            ]
          },
          "metadata": {}
        }
      ]
    },
    {
      "cell_type": "code",
      "source": [
        "# scatter plot of 10000 points\n",
        "\n",
        "scatter_points = []\n",
        "coordinates = points\n",
        "for _ in range(10000):\n",
        "    \n",
        "    centroid = getcentroid(coordinates)\n",
        "    point_tri = triangle_coordinates(centroid)\n",
        "    coordinates = point_tri\n",
        "    scatter_points.append(centroid)\n",
        "\n",
        "hex  = Polygon(vertices,fill= False, closed =True)\n",
        "\n",
        "plots = np.asarray(scatter_points)\n",
        "vertices = np.asarray(vertices)\n",
        "\n",
        "plt.figure(figsize = (8,5),dpi = 200)\n",
        "\n",
        "plt.gca().add_patch(hex)\n",
        "plt.plot(vertices[:,0],vertices[:,1],'ro')\n",
        "plt.plot(plots[:,0],plots[:,1],'go')\n",
        "plt.show()\n"
      ],
      "metadata": {
        "colab": {
          "base_uri": "https://localhost:8080/",
          "height": 879
        },
        "id": "zJehTzvOagWj",
        "outputId": "b9760fc0-1fcb-4b6c-e8ff-477e563a46cb"
      },
      "id": "zJehTzvOagWj",
      "execution_count": null,
      "outputs": [
        {
          "output_type": "display_data",
          "data": {
            "image/png": "[encoded data removed]",
            "text/plain": [
              "<Figure size 1600x1000 with 1 Axes>"
            ]
          },
          "metadata": {
            "needs_background": "light"
          }
        }
      ]
    },
    {
      "cell_type": "markdown",
      "source": [
        "Question 2"
      ],
      "metadata": {
        "id": "aF3w3h-QcIDD"
      },
      "id": "aF3w3h-QcIDD"
    },
    {
      "cell_type": "code",
      "execution_count": null,
      "id": "433a1de8",
      "metadata": {
        "id": "433a1de8"
      },
      "outputs": [],
      "source": [
        "# imports\n",
        "import pandas as pd\n",
        "import scipy"
      ]
    },
    {
      "cell_type": "code",
      "source": [
        "# mount google drive\n",
        "\n",
        "from google.colab import drive\n",
        "drive.mount('/content/drive')"
      ],
      "metadata": {
        "colab": {
          "base_uri": "https://localhost:8080/"
        },
        "id": "Rp-sNfIN9HJW",
        "outputId": "11fdbe53-9fa3-4f62-9352-0fa61547562c"
      },
      "id": "Rp-sNfIN9HJW",
      "execution_count": null,
      "outputs": [
        {
          "output_type": "stream",
          "name": "stdout",
          "text": [
            "Drive already mounted at /content/drive; to attempt to forcibly remount, call drive.mount(\"/content/drive\", force_remount=True).\n"
          ]
        }
      ]
    },
    {
      "cell_type": "code",
      "execution_count": null,
      "id": "b8c6351e",
      "metadata": {
        "id": "b8c6351e"
      },
      "outputs": [],
      "source": [
        "files_path = '/content/drive/MyDrive/DSI_Pre_Assignment_2022/'\n",
        "\n",
        "# reading files\n",
        "df0 = pd.read_csv(files_path+\"title.akas.tsv.gz\",compression='gzip',sep = '\\t',low_memory = False)\n",
        "df1 = pd.read_csv(files_path+\"title.basics.tsv.gz\",compression='gzip',sep = '\\t',low_memory = False)\n",
        "df2 = pd.read_csv(files_path+\"title.ratings.tsv.gz\",compression='gzip',sep = '\\t',low_memory = False)"
      ]
    },
    {
      "cell_type": "code",
      "execution_count": null,
      "id": "0ca919e3",
      "metadata": {
        "colab": {
          "base_uri": "https://localhost:8080/"
        },
        "id": "0ca919e3",
        "outputId": "94d9fa4f-9215-410f-a677-8043d46b3ef0"
      },
      "outputs": [
        {
          "output_type": "execute_result",
          "data": {
            "text/plain": [
              "(3423660, 8)"
            ]
          },
          "metadata": {},
          "execution_count": 10
        }
      ],
      "source": [
        "df0.shape"
      ]
    },
    {
      "cell_type": "code",
      "execution_count": null,
      "id": "74e5d7f3",
      "metadata": {
        "colab": {
          "base_uri": "https://localhost:8080/"
        },
        "id": "74e5d7f3",
        "outputId": "434415db-a466-4a60-c634-4f32076d0efd"
      },
      "outputs": [
        {
          "output_type": "execute_result",
          "data": {
            "text/plain": [
              "Index(['titleId', 'ordering', 'title', 'region', 'language', 'types',\n",
              "       'attributes', 'isOriginalTitle'],\n",
              "      dtype='object')"
            ]
          },
          "metadata": {},
          "execution_count": 11
        }
      ],
      "source": [
        "df0.columns"
      ]
    },
    {
      "cell_type": "code",
      "execution_count": null,
      "id": "16063ade",
      "metadata": {
        "colab": {
          "base_uri": "https://localhost:8080/",
          "height": 204
        },
        "id": "16063ade",
        "outputId": "3abcfa62-3a17-4e28-bd16-8d362786fc08"
      },
      "outputs": [
        {
          "output_type": "execute_result",
          "data": {
            "text/html": [
              "\n",
              "  <div id=\"df-96ec736a-7ae0-47c6-93c9-950ea576406c\">\n",
              "    <div class=\"colab-df-container\">\n",
              "      <div>\n",
              "<style scoped>\n",
              "    .dataframe tbody tr th:only-of-type {\n",
              "        vertical-align: middle;\n",
              "    }\n",
              "\n",
              "    .dataframe tbody tr th {\n",
              "        vertical-align: top;\n",
              "    }\n",
              "\n",
              "    .dataframe thead th {\n",
              "        text-align: right;\n",
              "    }\n",
              "</style>\n",
              "<table border=\"1\" class=\"dataframe\">\n",
              "  <thead>\n",
              "    <tr style=\"text-align: right;\">\n",
              "      <th></th>\n",
              "      <th>titleId</th>\n",
              "      <th>ordering</th>\n",
              "      <th>title</th>\n",
              "      <th>region</th>\n",
              "      <th>language</th>\n",
              "      <th>types</th>\n",
              "      <th>attributes</th>\n",
              "      <th>isOriginalTitle</th>\n",
              "    </tr>\n",
              "  </thead>\n",
              "  <tbody>\n",
              "    <tr>\n",
              "      <th>0</th>\n",
              "      <td>tt0000001</td>\n",
              "      <td>1</td>\n",
              "      <td>Carmencita - spanyol tánc</td>\n",
              "      <td>HU</td>\n",
              "      <td>\\N</td>\n",
              "      <td>imdbDisplay</td>\n",
              "      <td>\\N</td>\n",
              "      <td>0</td>\n",
              "    </tr>\n",
              "    <tr>\n",
              "      <th>1</th>\n",
              "      <td>tt0000001</td>\n",
              "      <td>2</td>\n",
              "      <td>Карменсита</td>\n",
              "      <td>RU</td>\n",
              "      <td>\\N</td>\n",
              "      <td>\\N</td>\n",
              "      <td>\\N</td>\n",
              "      <td>0</td>\n",
              "    </tr>\n",
              "    <tr>\n",
              "      <th>2</th>\n",
              "      <td>tt0000001</td>\n",
              "      <td>3</td>\n",
              "      <td>Carmencita</td>\n",
              "      <td>US</td>\n",
              "      <td>\\N</td>\n",
              "      <td>\\N</td>\n",
              "      <td>\\N</td>\n",
              "      <td>0</td>\n",
              "    </tr>\n",
              "    <tr>\n",
              "      <th>3</th>\n",
              "      <td>tt0000001</td>\n",
              "      <td>4</td>\n",
              "      <td>Carmencita</td>\n",
              "      <td>\\N</td>\n",
              "      <td>\\N</td>\n",
              "      <td>original</td>\n",
              "      <td>\\N</td>\n",
              "      <td>1</td>\n",
              "    </tr>\n",
              "    <tr>\n",
              "      <th>4</th>\n",
              "      <td>tt0000002</td>\n",
              "      <td>1</td>\n",
              "      <td>Le clown et ses chiens</td>\n",
              "      <td>\\N</td>\n",
              "      <td>\\N</td>\n",
              "      <td>original</td>\n",
              "      <td>\\N</td>\n",
              "      <td>1</td>\n",
              "    </tr>\n",
              "  </tbody>\n",
              "</table>\n",
              "</div>\n",
              "      <button class=\"colab-df-convert\" onclick=\"convertToInteractive('df-96ec736a-7ae0-47c6-93c9-950ea576406c')\"\n",
              "              title=\"Convert this dataframe to an interactive table.\"\n",
              "              style=\"display:none;\">\n",
              "        \n",
              "  <svg xmlns=\"http://www.w3.org/2000/svg\" height=\"24px\"viewBox=\"0 0 24 24\"\n",
              "       width=\"24px\">\n",
              "    <path d=\"M0 0h24v24H0V0z\" fill=\"none\"/>\n",
              "    <path d=\"M18.56 5.44l.94 2.06.94-2.06 2.06-.94-2.06-.94-.94-2.06-.94 2.06-2.06.94zm-11 1L8.5 8.5l.94-2.06 2.06-.94-2.06-.94L8.5 2.5l-.94 2.06-2.06.94zm10 10l.94 2.06.94-2.06 2.06-.94-2.06-.94-.94-2.06-.94 2.06-2.06.94z\"/><path d=\"M17.41 7.96l-1.37-1.37c-.4-.4-.92-.59-1.43-.59-.52 0-1.04.2-1.43.59L10.3 9.45l-7.72 7.72c-.78.78-.78 2.05 0 2.83L4 21.41c.39.39.9.59 1.41.59.51 0 1.02-.2 1.41-.59l7.78-7.78 2.81-2.81c.8-.78.8-2.07 0-2.86zM5.41 20L4 18.59l7.72-7.72 1.47 1.35L5.41 20z\"/>\n",
              "  </svg>\n",
              "      </button>\n",
              "      \n",
              "  <style>\n",
              "    .colab-df-container {\n",
              "      display:flex;\n",
              "      flex-wrap:wrap;\n",
              "      gap: 12px;\n",
              "    }\n",
              "\n",
              "    .colab-df-convert {\n",
              "      background-color: #E8F0FE;\n",
              "      border: none;\n",
              "      border-radius: 50%;\n",
              "      cursor: pointer;\n",
              "      display: none;\n",
              "      fill: #1967D2;\n",
              "      height: 32px;\n",
              "      padding: 0 0 0 0;\n",
              "      width: 32px;\n",
              "    }\n",
              "\n",
              "    .colab-df-convert:hover {\n",
              "      background-color: #E2EBFA;\n",
              "      box-shadow: 0px 1px 2px rgba(60, 64, 67, 0.3), 0px 1px 3px 1px rgba(60, 64, 67, 0.15);\n",
              "      fill: #174EA6;\n",
              "    }\n",
              "\n",
              "    [theme=dark] .colab-df-convert {\n",
              "      background-color: #3B4455;\n",
              "      fill: #D2E3FC;\n",
              "    }\n",
              "\n",
              "    [theme=dark] .colab-df-convert:hover {\n",
              "      background-color: #434B5C;\n",
              "      box-shadow: 0px 1px 3px 1px rgba(0, 0, 0, 0.15);\n",
              "      filter: drop-shadow(0px 1px 2px rgba(0, 0, 0, 0.3));\n",
              "      fill: #FFFFFF;\n",
              "    }\n",
              "  </style>\n",
              "\n",
              "      <script>\n",
              "        const buttonEl =\n",
              "          document.querySelector('#df-96ec736a-7ae0-47c6-93c9-950ea576406c button.colab-df-convert');\n",
              "        buttonEl.style.display =\n",
              "          google.colab.kernel.accessAllowed ? 'block' : 'none';\n",
              "\n",
              "        async function convertToInteractive(key) {\n",
              "          const element = document.querySelector('#df-96ec736a-7ae0-47c6-93c9-950ea576406c');\n",
              "          const dataTable =\n",
              "            await google.colab.kernel.invokeFunction('convertToInteractive',\n",
              "                                                     [key], {});\n",
              "          if (!dataTable) return;\n",
              "\n",
              "          const docLinkHtml = 'Like what you see? Visit the ' +\n",
              "            '<a target=\"_blank\" href=https://colab.research.google.com/notebooks/data_table.ipynb>data table notebook</a>'\n",
              "            + ' to learn more about interactive tables.';\n",
              "          element.innerHTML = '';\n",
              "          dataTable['output_type'] = 'display_data';\n",
              "          await google.colab.output.renderOutput(dataTable, element);\n",
              "          const docLink = document.createElement('div');\n",
              "          docLink.innerHTML = docLinkHtml;\n",
              "          element.appendChild(docLink);\n",
              "        }\n",
              "      </script>\n",
              "    </div>\n",
              "  </div>\n",
              "  "
            ],
            "text/plain": [
              "     titleId  ordering  ... attributes isOriginalTitle\n",
              "0  tt0000001         1  ...         \\N               0\n",
              "1  tt0000001         2  ...         \\N               0\n",
              "2  tt0000001         3  ...         \\N               0\n",
              "3  tt0000001         4  ...         \\N               1\n",
              "4  tt0000002         1  ...         \\N               1\n",
              "\n",
              "[5 rows x 8 columns]"
            ]
          },
          "metadata": {},
          "execution_count": 12
        }
      ],
      "source": [
        "df0.head(5)"
      ]
    },
    {
      "cell_type": "code",
      "execution_count": null,
      "id": "0e018cf3",
      "metadata": {
        "id": "0e018cf3",
        "outputId": "59f5c740-8de3-434c-f90a-a1ed91dcc27b",
        "colab": {
          "base_uri": "https://localhost:8080/"
        }
      },
      "outputs": [
        {
          "output_type": "execute_result",
          "data": {
            "text/plain": [
              "(5330276, 9)"
            ]
          },
          "metadata": {},
          "execution_count": 13
        }
      ],
      "source": [
        "df1.shape"
      ]
    },
    {
      "cell_type": "code",
      "execution_count": null,
      "id": "15e1ba5a",
      "metadata": {
        "colab": {
          "base_uri": "https://localhost:8080/"
        },
        "id": "15e1ba5a",
        "outputId": "d10157ef-ea6d-4bd5-f1b9-f8198fd85cda"
      },
      "outputs": [
        {
          "output_type": "execute_result",
          "data": {
            "text/plain": [
              "Index(['tconst', 'titleType', 'primaryTitle', 'originalTitle', 'isAdult',\n",
              "       'startYear', 'endYear', 'runtimeMinutes', 'genres'],\n",
              "      dtype='object')"
            ]
          },
          "metadata": {},
          "execution_count": 14
        }
      ],
      "source": [
        "df1.columns"
      ]
    },
    {
      "cell_type": "code",
      "execution_count": null,
      "id": "516391e1",
      "metadata": {
        "colab": {
          "base_uri": "https://localhost:8080/",
          "height": 204
        },
        "id": "516391e1",
        "outputId": "d245ad13-9c6c-4855-f186-584e741e408d"
      },
      "outputs": [
        {
          "output_type": "execute_result",
          "data": {
            "text/html": [
              "\n",
              "  <div id=\"df-2080fe8f-1754-4ed3-9876-b7701b12c18b\">\n",
              "    <div class=\"colab-df-container\">\n",
              "      <div>\n",
              "<style scoped>\n",
              "    .dataframe tbody tr th:only-of-type {\n",
              "        vertical-align: middle;\n",
              "    }\n",
              "\n",
              "    .dataframe tbody tr th {\n",
              "        vertical-align: top;\n",
              "    }\n",
              "\n",
              "    .dataframe thead th {\n",
              "        text-align: right;\n",
              "    }\n",
              "</style>\n",
              "<table border=\"1\" class=\"dataframe\">\n",
              "  <thead>\n",
              "    <tr style=\"text-align: right;\">\n",
              "      <th></th>\n",
              "      <th>tconst</th>\n",
              "      <th>titleType</th>\n",
              "      <th>primaryTitle</th>\n",
              "      <th>originalTitle</th>\n",
              "      <th>isAdult</th>\n",
              "      <th>startYear</th>\n",
              "      <th>endYear</th>\n",
              "      <th>runtimeMinutes</th>\n",
              "      <th>genres</th>\n",
              "    </tr>\n",
              "  </thead>\n",
              "  <tbody>\n",
              "    <tr>\n",
              "      <th>0</th>\n",
              "      <td>tt0000001</td>\n",
              "      <td>short</td>\n",
              "      <td>Carmencita</td>\n",
              "      <td>Carmencita</td>\n",
              "      <td>0</td>\n",
              "      <td>1894</td>\n",
              "      <td>\\N</td>\n",
              "      <td>1</td>\n",
              "      <td>Documentary,Short</td>\n",
              "    </tr>\n",
              "    <tr>\n",
              "      <th>1</th>\n",
              "      <td>tt0000002</td>\n",
              "      <td>short</td>\n",
              "      <td>Le clown et ses chiens</td>\n",
              "      <td>Le clown et ses chiens</td>\n",
              "      <td>0</td>\n",
              "      <td>1892</td>\n",
              "      <td>\\N</td>\n",
              "      <td>5</td>\n",
              "      <td>Animation,Short</td>\n",
              "    </tr>\n",
              "    <tr>\n",
              "      <th>2</th>\n",
              "      <td>tt0000003</td>\n",
              "      <td>short</td>\n",
              "      <td>Pauvre Pierrot</td>\n",
              "      <td>Pauvre Pierrot</td>\n",
              "      <td>0</td>\n",
              "      <td>1892</td>\n",
              "      <td>\\N</td>\n",
              "      <td>4</td>\n",
              "      <td>Animation,Comedy,Romance</td>\n",
              "    </tr>\n",
              "    <tr>\n",
              "      <th>3</th>\n",
              "      <td>tt0000004</td>\n",
              "      <td>short</td>\n",
              "      <td>Un bon bock</td>\n",
              "      <td>Un bon bock</td>\n",
              "      <td>0</td>\n",
              "      <td>1892</td>\n",
              "      <td>\\N</td>\n",
              "      <td>\\N</td>\n",
              "      <td>Animation,Short</td>\n",
              "    </tr>\n",
              "    <tr>\n",
              "      <th>4</th>\n",
              "      <td>tt0000005</td>\n",
              "      <td>short</td>\n",
              "      <td>Blacksmith Scene</td>\n",
              "      <td>Blacksmith Scene</td>\n",
              "      <td>0</td>\n",
              "      <td>1893</td>\n",
              "      <td>\\N</td>\n",
              "      <td>1</td>\n",
              "      <td>Comedy,Short</td>\n",
              "    </tr>\n",
              "  </tbody>\n",
              "</table>\n",
              "</div>\n",
              "      <button class=\"colab-df-convert\" onclick=\"convertToInteractive('df-2080fe8f-1754-4ed3-9876-b7701b12c18b')\"\n",
              "              title=\"Convert this dataframe to an interactive table.\"\n",
              "              style=\"display:none;\">\n",
              "        \n",
              "  <svg xmlns=\"http://www.w3.org/2000/svg\" height=\"24px\"viewBox=\"0 0 24 24\"\n",
              "       width=\"24px\">\n",
              "    <path d=\"M0 0h24v24H0V0z\" fill=\"none\"/>\n",
              "    <path d=\"M18.56 5.44l.94 2.06.94-2.06 2.06-.94-2.06-.94-.94-2.06-.94 2.06-2.06.94zm-11 1L8.5 8.5l.94-2.06 2.06-.94-2.06-.94L8.5 2.5l-.94 2.06-2.06.94zm10 10l.94 2.06.94-2.06 2.06-.94-2.06-.94-.94-2.06-.94 2.06-2.06.94z\"/><path d=\"M17.41 7.96l-1.37-1.37c-.4-.4-.92-.59-1.43-.59-.52 0-1.04.2-1.43.59L10.3 9.45l-7.72 7.72c-.78.78-.78 2.05 0 2.83L4 21.41c.39.39.9.59 1.41.59.51 0 1.02-.2 1.41-.59l7.78-7.78 2.81-2.81c.8-.78.8-2.07 0-2.86zM5.41 20L4 18.59l7.72-7.72 1.47 1.35L5.41 20z\"/>\n",
              "  </svg>\n",
              "      </button>\n",
              "      \n",
              "  <style>\n",
              "    .colab-df-container {\n",
              "      display:flex;\n",
              "      flex-wrap:wrap;\n",
              "      gap: 12px;\n",
              "    }\n",
              "\n",
              "    .colab-df-convert {\n",
              "      background-color: #E8F0FE;\n",
              "      border: none;\n",
              "      border-radius: 50%;\n",
              "      cursor: pointer;\n",
              "      display: none;\n",
              "      fill: #1967D2;\n",
              "      height: 32px;\n",
              "      padding: 0 0 0 0;\n",
              "      width: 32px;\n",
              "    }\n",
              "\n",
              "    .colab-df-convert:hover {\n",
              "      background-color: #E2EBFA;\n",
              "      box-shadow: 0px 1px 2px rgba(60, 64, 67, 0.3), 0px 1px 3px 1px rgba(60, 64, 67, 0.15);\n",
              "      fill: #174EA6;\n",
              "    }\n",
              "\n",
              "    [theme=dark] .colab-df-convert {\n",
              "      background-color: #3B4455;\n",
              "      fill: #D2E3FC;\n",
              "    }\n",
              "\n",
              "    [theme=dark] .colab-df-convert:hover {\n",
              "      background-color: #434B5C;\n",
              "      box-shadow: 0px 1px 3px 1px rgba(0, 0, 0, 0.15);\n",
              "      filter: drop-shadow(0px 1px 2px rgba(0, 0, 0, 0.3));\n",
              "      fill: #FFFFFF;\n",
              "    }\n",
              "  </style>\n",
              "\n",
              "      <script>\n",
              "        const buttonEl =\n",
              "          document.querySelector('#df-2080fe8f-1754-4ed3-9876-b7701b12c18b button.colab-df-convert');\n",
              "        buttonEl.style.display =\n",
              "          google.colab.kernel.accessAllowed ? 'block' : 'none';\n",
              "\n",
              "        async function convertToInteractive(key) {\n",
              "          const element = document.querySelector('#df-2080fe8f-1754-4ed3-9876-b7701b12c18b');\n",
              "          const dataTable =\n",
              "            await google.colab.kernel.invokeFunction('convertToInteractive',\n",
              "                                                     [key], {});\n",
              "          if (!dataTable) return;\n",
              "\n",
              "          const docLinkHtml = 'Like what you see? Visit the ' +\n",
              "            '<a target=\"_blank\" href=https://colab.research.google.com/notebooks/data_table.ipynb>data table notebook</a>'\n",
              "            + ' to learn more about interactive tables.';\n",
              "          element.innerHTML = '';\n",
              "          dataTable['output_type'] = 'display_data';\n",
              "          await google.colab.output.renderOutput(dataTable, element);\n",
              "          const docLink = document.createElement('div');\n",
              "          docLink.innerHTML = docLinkHtml;\n",
              "          element.appendChild(docLink);\n",
              "        }\n",
              "      </script>\n",
              "    </div>\n",
              "  </div>\n",
              "  "
            ],
            "text/plain": [
              "      tconst titleType  ... runtimeMinutes                    genres\n",
              "0  tt0000001     short  ...              1         Documentary,Short\n",
              "1  tt0000002     short  ...              5           Animation,Short\n",
              "2  tt0000003     short  ...              4  Animation,Comedy,Romance\n",
              "3  tt0000004     short  ...             \\N           Animation,Short\n",
              "4  tt0000005     short  ...              1              Comedy,Short\n",
              "\n",
              "[5 rows x 9 columns]"
            ]
          },
          "metadata": {},
          "execution_count": 15
        }
      ],
      "source": [
        "df1.head()"
      ]
    },
    {
      "cell_type": "code",
      "execution_count": null,
      "id": "d0b2e918",
      "metadata": {
        "colab": {
          "base_uri": "https://localhost:8080/"
        },
        "id": "d0b2e918",
        "outputId": "7404cf58-5fe8-4a5b-e9a9-ddc7bb77a08a"
      },
      "outputs": [
        {
          "output_type": "execute_result",
          "data": {
            "text/plain": [
              "(874203, 3)"
            ]
          },
          "metadata": {},
          "execution_count": 16
        }
      ],
      "source": [
        "df2.shape"
      ]
    },
    {
      "cell_type": "code",
      "execution_count": null,
      "id": "aa8f2e69",
      "metadata": {
        "colab": {
          "base_uri": "https://localhost:8080/"
        },
        "id": "aa8f2e69",
        "outputId": "1e9678c9-fedc-468f-d507-c94ade7cd4f7"
      },
      "outputs": [
        {
          "output_type": "execute_result",
          "data": {
            "text/plain": [
              "Index(['tconst', 'averageRating', 'numVotes'], dtype='object')"
            ]
          },
          "metadata": {},
          "execution_count": 17
        }
      ],
      "source": [
        "df2.columns"
      ]
    },
    {
      "cell_type": "code",
      "execution_count": null,
      "id": "d1bdccf0",
      "metadata": {
        "id": "d1bdccf0"
      },
      "outputs": [],
      "source": [
        "# question 2\n",
        "df0.drop_duplicates(inplace=True)\n",
        "df1.drop_duplicates(inplace=True)\n",
        "df2.drop_duplicates(inplace=True)"
      ]
    },
    {
      "cell_type": "code",
      "execution_count": null,
      "id": "0ad375e8",
      "metadata": {
        "id": "0ad375e8"
      },
      "outputs": [],
      "source": [
        "# inner merge\n",
        "df_inner_1 = df0.merge(df1, how='inner', left_on='titleId', right_on='tconst')\n",
        "df_inner = df_inner_1.merge(df2, how='inner', on='tconst')"
      ]
    },
    {
      "cell_type": "code",
      "execution_count": null,
      "id": "d0671208",
      "metadata": {
        "id": "d0671208"
      },
      "outputs": [],
      "source": [
        "# outer merge\n",
        "df_outer_1 = df0.merge(df1, how='outer', left_on='titleId', right_on='tconst')\n",
        "df_outer = df_outer_1.merge(df2, how='outer', on='tconst')"
      ]
    },
    {
      "cell_type": "code",
      "execution_count": null,
      "id": "ee0c3fb1",
      "metadata": {
        "colab": {
          "base_uri": "https://localhost:8080/"
        },
        "id": "ee0c3fb1",
        "outputId": "b88a20e1-2499-4ff6-9ab1-6cbdd30f2def"
      },
      "outputs": [
        {
          "output_type": "stream",
          "name": "stdout",
          "text": [
            "The shape of inner merge is (1686547, 19) and  outer merge is (6740089, 19)\n"
          ]
        }
      ],
      "source": [
        "print(f'The shape of inner merge is {df_inner.shape} and  outer merge is {df_outer.shape}')"
      ]
    },
    {
      "cell_type": "code",
      "execution_count": null,
      "id": "77d56bcc",
      "metadata": {
        "colab": {
          "base_uri": "https://localhost:8080/"
        },
        "id": "77d56bcc",
        "outputId": "a579c712-567e-40e0-f5a5-faa8d50f91c6"
      },
      "outputs": [
        {
          "output_type": "execute_result",
          "data": {
            "text/plain": [
              "array(['short', 'movie', nan, 'tvMovie', 'tvSeries', 'tvEpisode',\n",
              "       'tvShort', 'tvMiniSeries', 'tvSpecial', 'video', 'videoGame'],\n",
              "      dtype=object)"
            ]
          },
          "metadata": {},
          "execution_count": 22
        }
      ],
      "source": [
        "# unique method\n",
        "titleTypes = df_outer['titleType'].unique()\n",
        "titleTypes"
      ]
    },
    {
      "cell_type": "code",
      "execution_count": null,
      "id": "80afebc2",
      "metadata": {
        "colab": {
          "base_uri": "https://localhost:8080/",
          "height": 523
        },
        "id": "80afebc2",
        "outputId": "7417787a-4b70-4db0-b289-7a3ce664cb42"
      },
      "outputs": [
        {
          "output_type": "execute_result",
          "data": {
            "text/html": [
              "\n",
              "  <div id=\"df-97c18510-2492-4289-b6c9-fedeaa8fce28\">\n",
              "    <div class=\"colab-df-container\">\n",
              "      <div>\n",
              "<style scoped>\n",
              "    .dataframe tbody tr th:only-of-type {\n",
              "        vertical-align: middle;\n",
              "    }\n",
              "\n",
              "    .dataframe tbody tr th {\n",
              "        vertical-align: top;\n",
              "    }\n",
              "\n",
              "    .dataframe thead th {\n",
              "        text-align: right;\n",
              "    }\n",
              "</style>\n",
              "<table border=\"1\" class=\"dataframe\">\n",
              "  <thead>\n",
              "    <tr style=\"text-align: right;\">\n",
              "      <th></th>\n",
              "      <th>titleId</th>\n",
              "      <th>ordering</th>\n",
              "      <th>title</th>\n",
              "      <th>region</th>\n",
              "      <th>language</th>\n",
              "      <th>types</th>\n",
              "      <th>attributes</th>\n",
              "      <th>isOriginalTitle</th>\n",
              "      <th>tconst</th>\n",
              "      <th>titleType</th>\n",
              "      <th>primaryTitle</th>\n",
              "      <th>originalTitle</th>\n",
              "      <th>isAdult</th>\n",
              "      <th>startYear</th>\n",
              "      <th>endYear</th>\n",
              "      <th>runtimeMinutes</th>\n",
              "      <th>genres</th>\n",
              "      <th>averageRating</th>\n",
              "      <th>numVotes</th>\n",
              "    </tr>\n",
              "  </thead>\n",
              "  <tbody>\n",
              "    <tr>\n",
              "      <th>51</th>\n",
              "      <td>tt0000009</td>\n",
              "      <td>3.0</td>\n",
              "      <td>Miss Jerry</td>\n",
              "      <td>US</td>\n",
              "      <td>\\N</td>\n",
              "      <td>\\N</td>\n",
              "      <td>\\N</td>\n",
              "      <td>0</td>\n",
              "      <td>tt0000009</td>\n",
              "      <td>movie</td>\n",
              "      <td>Miss Jerry</td>\n",
              "      <td>Miss Jerry</td>\n",
              "      <td>0.0</td>\n",
              "      <td>1894</td>\n",
              "      <td>\\N</td>\n",
              "      <td>45</td>\n",
              "      <td>Romance</td>\n",
              "      <td>5.5</td>\n",
              "      <td>70.0</td>\n",
              "    </tr>\n",
              "    <tr>\n",
              "      <th>74</th>\n",
              "      <td>tt0000012</td>\n",
              "      <td>11.0</td>\n",
              "      <td>The Arrival of a Train</td>\n",
              "      <td>XWW</td>\n",
              "      <td>en</td>\n",
              "      <td>imdbDisplay</td>\n",
              "      <td>\\N</td>\n",
              "      <td>0</td>\n",
              "      <td>tt0000012</td>\n",
              "      <td>short</td>\n",
              "      <td>The Arrival of a Train</td>\n",
              "      <td>L'arrivée d'un train à La Ciotat</td>\n",
              "      <td>0.0</td>\n",
              "      <td>1896</td>\n",
              "      <td>\\N</td>\n",
              "      <td>1</td>\n",
              "      <td>Documentary,Short</td>\n",
              "      <td>7.4</td>\n",
              "      <td>8509.0</td>\n",
              "    </tr>\n",
              "    <tr>\n",
              "      <th>76</th>\n",
              "      <td>tt0000012</td>\n",
              "      <td>13.0</td>\n",
              "      <td>The Arrival of a Train at La Ciotat</td>\n",
              "      <td>XWW</td>\n",
              "      <td>en</td>\n",
              "      <td>alternative</td>\n",
              "      <td>\\N</td>\n",
              "      <td>0</td>\n",
              "      <td>tt0000012</td>\n",
              "      <td>short</td>\n",
              "      <td>The Arrival of a Train</td>\n",
              "      <td>L'arrivée d'un train à La Ciotat</td>\n",
              "      <td>0.0</td>\n",
              "      <td>1896</td>\n",
              "      <td>\\N</td>\n",
              "      <td>1</td>\n",
              "      <td>Documentary,Short</td>\n",
              "      <td>7.4</td>\n",
              "      <td>8509.0</td>\n",
              "    </tr>\n",
              "    <tr>\n",
              "      <th>85</th>\n",
              "      <td>tt0000012</td>\n",
              "      <td>21.0</td>\n",
              "      <td>The Arrival of a Train</td>\n",
              "      <td>XEU</td>\n",
              "      <td>en</td>\n",
              "      <td>imdbDisplay</td>\n",
              "      <td>\\N</td>\n",
              "      <td>0</td>\n",
              "      <td>tt0000012</td>\n",
              "      <td>short</td>\n",
              "      <td>The Arrival of a Train</td>\n",
              "      <td>L'arrivée d'un train à La Ciotat</td>\n",
              "      <td>0.0</td>\n",
              "      <td>1896</td>\n",
              "      <td>\\N</td>\n",
              "      <td>1</td>\n",
              "      <td>Documentary,Short</td>\n",
              "      <td>7.4</td>\n",
              "      <td>8509.0</td>\n",
              "    </tr>\n",
              "    <tr>\n",
              "      <th>131</th>\n",
              "      <td>tt0000016</td>\n",
              "      <td>1.0</td>\n",
              "      <td>Boat Leaving the Port</td>\n",
              "      <td>XWW</td>\n",
              "      <td>en</td>\n",
              "      <td>\\N</td>\n",
              "      <td>informal title</td>\n",
              "      <td>0</td>\n",
              "      <td>tt0000016</td>\n",
              "      <td>short</td>\n",
              "      <td>Barque sortant du port</td>\n",
              "      <td>Barque sortant du port</td>\n",
              "      <td>0.0</td>\n",
              "      <td>1895</td>\n",
              "      <td>\\N</td>\n",
              "      <td>1</td>\n",
              "      <td>Documentary,Short</td>\n",
              "      <td>5.9</td>\n",
              "      <td>967.0</td>\n",
              "    </tr>\n",
              "  </tbody>\n",
              "</table>\n",
              "</div>\n",
              "      <button class=\"colab-df-convert\" onclick=\"convertToInteractive('df-97c18510-2492-4289-b6c9-fedeaa8fce28')\"\n",
              "              title=\"Convert this dataframe to an interactive table.\"\n",
              "              style=\"display:none;\">\n",
              "        \n",
              "  <svg xmlns=\"http://www.w3.org/2000/svg\" height=\"24px\"viewBox=\"0 0 24 24\"\n",
              "       width=\"24px\">\n",
              "    <path d=\"M0 0h24v24H0V0z\" fill=\"none\"/>\n",
              "    <path d=\"M18.56 5.44l.94 2.06.94-2.06 2.06-.94-2.06-.94-.94-2.06-.94 2.06-2.06.94zm-11 1L8.5 8.5l.94-2.06 2.06-.94-2.06-.94L8.5 2.5l-.94 2.06-2.06.94zm10 10l.94 2.06.94-2.06 2.06-.94-2.06-.94-.94-2.06-.94 2.06-2.06.94z\"/><path d=\"M17.41 7.96l-1.37-1.37c-.4-.4-.92-.59-1.43-.59-.52 0-1.04.2-1.43.59L10.3 9.45l-7.72 7.72c-.78.78-.78 2.05 0 2.83L4 21.41c.39.39.9.59 1.41.59.51 0 1.02-.2 1.41-.59l7.78-7.78 2.81-2.81c.8-.78.8-2.07 0-2.86zM5.41 20L4 18.59l7.72-7.72 1.47 1.35L5.41 20z\"/>\n",
              "  </svg>\n",
              "      </button>\n",
              "      \n",
              "  <style>\n",
              "    .colab-df-container {\n",
              "      display:flex;\n",
              "      flex-wrap:wrap;\n",
              "      gap: 12px;\n",
              "    }\n",
              "\n",
              "    .colab-df-convert {\n",
              "      background-color: #E8F0FE;\n",
              "      border: none;\n",
              "      border-radius: 50%;\n",
              "      cursor: pointer;\n",
              "      display: none;\n",
              "      fill: #1967D2;\n",
              "      height: 32px;\n",
              "      padding: 0 0 0 0;\n",
              "      width: 32px;\n",
              "    }\n",
              "\n",
              "    .colab-df-convert:hover {\n",
              "      background-color: #E2EBFA;\n",
              "      box-shadow: 0px 1px 2px rgba(60, 64, 67, 0.3), 0px 1px 3px 1px rgba(60, 64, 67, 0.15);\n",
              "      fill: #174EA6;\n",
              "    }\n",
              "\n",
              "    [theme=dark] .colab-df-convert {\n",
              "      background-color: #3B4455;\n",
              "      fill: #D2E3FC;\n",
              "    }\n",
              "\n",
              "    [theme=dark] .colab-df-convert:hover {\n",
              "      background-color: #434B5C;\n",
              "      box-shadow: 0px 1px 3px 1px rgba(0, 0, 0, 0.15);\n",
              "      filter: drop-shadow(0px 1px 2px rgba(0, 0, 0, 0.3));\n",
              "      fill: #FFFFFF;\n",
              "    }\n",
              "  </style>\n",
              "\n",
              "      <script>\n",
              "        const buttonEl =\n",
              "          document.querySelector('#df-97c18510-2492-4289-b6c9-fedeaa8fce28 button.colab-df-convert');\n",
              "        buttonEl.style.display =\n",
              "          google.colab.kernel.accessAllowed ? 'block' : 'none';\n",
              "\n",
              "        async function convertToInteractive(key) {\n",
              "          const element = document.querySelector('#df-97c18510-2492-4289-b6c9-fedeaa8fce28');\n",
              "          const dataTable =\n",
              "            await google.colab.kernel.invokeFunction('convertToInteractive',\n",
              "                                                     [key], {});\n",
              "          if (!dataTable) return;\n",
              "\n",
              "          const docLinkHtml = 'Like what you see? Visit the ' +\n",
              "            '<a target=\"_blank\" href=https://colab.research.google.com/notebooks/data_table.ipynb>data table notebook</a>'\n",
              "            + ' to learn more about interactive tables.';\n",
              "          element.innerHTML = '';\n",
              "          dataTable['output_type'] = 'display_data';\n",
              "          await google.colab.output.renderOutput(dataTable, element);\n",
              "          const docLink = document.createElement('div');\n",
              "          docLink.innerHTML = docLinkHtml;\n",
              "          element.appendChild(docLink);\n",
              "        }\n",
              "      </script>\n",
              "    </div>\n",
              "  </div>\n",
              "  "
            ],
            "text/plain": [
              "       titleId  ordering  ... averageRating numVotes\n",
              "51   tt0000009       3.0  ...           5.5     70.0\n",
              "74   tt0000012      11.0  ...           7.4   8509.0\n",
              "76   tt0000012      13.0  ...           7.4   8509.0\n",
              "85   tt0000012      21.0  ...           7.4   8509.0\n",
              "131  tt0000016       1.0  ...           5.9    967.0\n",
              "\n",
              "[5 rows x 19 columns]"
            ]
          },
          "metadata": {},
          "execution_count": 24
        }
      ],
      "source": [
        "# question 4\n",
        "region = df_outer['region'] == 'US'\n",
        "movie = df_outer['titleType'] == 'movie'\n",
        "language = df_outer['language'] == 'en'\n",
        "\n",
        "df_new = df_outer[language | region & movie]\n",
        "\n",
        "df_new.head(5)"
      ]
    },
    {
      "cell_type": "code",
      "source": [
        "# questions 5\n",
        "\n",
        "df_new['log10Votes'] = df_new['numVotes'].apply(lambda x: np.log10(x))\n",
        "\n",
        "df_new.head(5)"
      ],
      "metadata": {
        "colab": {
          "base_uri": "https://localhost:8080/",
          "height": 625
        },
        "id": "1LCFRExaBqMV",
        "outputId": "bc1e8e74-e1b3-4d27-a650-c7ec8c8b3871"
      },
      "id": "1LCFRExaBqMV",
      "execution_count": null,
      "outputs": [
        {
          "output_type": "stream",
          "name": "stderr",
          "text": [
            "/usr/local/lib/python3.7/dist-packages/ipykernel_launcher.py:3: SettingWithCopyWarning: \n",
            "A value is trying to be set on a copy of a slice from a DataFrame.\n",
            "Try using .loc[row_indexer,col_indexer] = value instead\n",
            "\n",
            "See the caveats in the documentation: https://pandas.pydata.org/pandas-docs/stable/user_guide/indexing.html#returning-a-view-versus-a-copy\n",
            "  This is separate from the ipykernel package so we can avoid doing imports until\n"
          ]
        },
        {
          "output_type": "execute_result",
          "data": {
            "text/html": [
              "\n",
              "  <div id=\"df-6c41a47b-05b7-4673-bcb9-03fdbe325f7e\">\n",
              "    <div class=\"colab-df-container\">\n",
              "      <div>\n",
              "<style scoped>\n",
              "    .dataframe tbody tr th:only-of-type {\n",
              "        vertical-align: middle;\n",
              "    }\n",
              "\n",
              "    .dataframe tbody tr th {\n",
              "        vertical-align: top;\n",
              "    }\n",
              "\n",
              "    .dataframe thead th {\n",
              "        text-align: right;\n",
              "    }\n",
              "</style>\n",
              "<table border=\"1\" class=\"dataframe\">\n",
              "  <thead>\n",
              "    <tr style=\"text-align: right;\">\n",
              "      <th></th>\n",
              "      <th>titleId</th>\n",
              "      <th>ordering</th>\n",
              "      <th>title</th>\n",
              "      <th>region</th>\n",
              "      <th>language</th>\n",
              "      <th>types</th>\n",
              "      <th>attributes</th>\n",
              "      <th>isOriginalTitle</th>\n",
              "      <th>tconst</th>\n",
              "      <th>titleType</th>\n",
              "      <th>primaryTitle</th>\n",
              "      <th>originalTitle</th>\n",
              "      <th>isAdult</th>\n",
              "      <th>startYear</th>\n",
              "      <th>endYear</th>\n",
              "      <th>runtimeMinutes</th>\n",
              "      <th>genres</th>\n",
              "      <th>averageRating</th>\n",
              "      <th>numVotes</th>\n",
              "      <th>log10Votes</th>\n",
              "    </tr>\n",
              "  </thead>\n",
              "  <tbody>\n",
              "    <tr>\n",
              "      <th>51</th>\n",
              "      <td>tt0000009</td>\n",
              "      <td>3.0</td>\n",
              "      <td>Miss Jerry</td>\n",
              "      <td>US</td>\n",
              "      <td>\\N</td>\n",
              "      <td>\\N</td>\n",
              "      <td>\\N</td>\n",
              "      <td>0</td>\n",
              "      <td>tt0000009</td>\n",
              "      <td>movie</td>\n",
              "      <td>Miss Jerry</td>\n",
              "      <td>Miss Jerry</td>\n",
              "      <td>0.0</td>\n",
              "      <td>1894</td>\n",
              "      <td>\\N</td>\n",
              "      <td>45</td>\n",
              "      <td>Romance</td>\n",
              "      <td>5.5</td>\n",
              "      <td>70.0</td>\n",
              "      <td>1.845098</td>\n",
              "    </tr>\n",
              "    <tr>\n",
              "      <th>74</th>\n",
              "      <td>tt0000012</td>\n",
              "      <td>11.0</td>\n",
              "      <td>The Arrival of a Train</td>\n",
              "      <td>XWW</td>\n",
              "      <td>en</td>\n",
              "      <td>imdbDisplay</td>\n",
              "      <td>\\N</td>\n",
              "      <td>0</td>\n",
              "      <td>tt0000012</td>\n",
              "      <td>short</td>\n",
              "      <td>The Arrival of a Train</td>\n",
              "      <td>L'arrivée d'un train à La Ciotat</td>\n",
              "      <td>0.0</td>\n",
              "      <td>1896</td>\n",
              "      <td>\\N</td>\n",
              "      <td>1</td>\n",
              "      <td>Documentary,Short</td>\n",
              "      <td>7.4</td>\n",
              "      <td>8509.0</td>\n",
              "      <td>3.929879</td>\n",
              "    </tr>\n",
              "    <tr>\n",
              "      <th>76</th>\n",
              "      <td>tt0000012</td>\n",
              "      <td>13.0</td>\n",
              "      <td>The Arrival of a Train at La Ciotat</td>\n",
              "      <td>XWW</td>\n",
              "      <td>en</td>\n",
              "      <td>alternative</td>\n",
              "      <td>\\N</td>\n",
              "      <td>0</td>\n",
              "      <td>tt0000012</td>\n",
              "      <td>short</td>\n",
              "      <td>The Arrival of a Train</td>\n",
              "      <td>L'arrivée d'un train à La Ciotat</td>\n",
              "      <td>0.0</td>\n",
              "      <td>1896</td>\n",
              "      <td>\\N</td>\n",
              "      <td>1</td>\n",
              "      <td>Documentary,Short</td>\n",
              "      <td>7.4</td>\n",
              "      <td>8509.0</td>\n",
              "      <td>3.929879</td>\n",
              "    </tr>\n",
              "    <tr>\n",
              "      <th>85</th>\n",
              "      <td>tt0000012</td>\n",
              "      <td>21.0</td>\n",
              "      <td>The Arrival of a Train</td>\n",
              "      <td>XEU</td>\n",
              "      <td>en</td>\n",
              "      <td>imdbDisplay</td>\n",
              "      <td>\\N</td>\n",
              "      <td>0</td>\n",
              "      <td>tt0000012</td>\n",
              "      <td>short</td>\n",
              "      <td>The Arrival of a Train</td>\n",
              "      <td>L'arrivée d'un train à La Ciotat</td>\n",
              "      <td>0.0</td>\n",
              "      <td>1896</td>\n",
              "      <td>\\N</td>\n",
              "      <td>1</td>\n",
              "      <td>Documentary,Short</td>\n",
              "      <td>7.4</td>\n",
              "      <td>8509.0</td>\n",
              "      <td>3.929879</td>\n",
              "    </tr>\n",
              "    <tr>\n",
              "      <th>131</th>\n",
              "      <td>tt0000016</td>\n",
              "      <td>1.0</td>\n",
              "      <td>Boat Leaving the Port</td>\n",
              "      <td>XWW</td>\n",
              "      <td>en</td>\n",
              "      <td>\\N</td>\n",
              "      <td>informal title</td>\n",
              "      <td>0</td>\n",
              "      <td>tt0000016</td>\n",
              "      <td>short</td>\n",
              "      <td>Barque sortant du port</td>\n",
              "      <td>Barque sortant du port</td>\n",
              "      <td>0.0</td>\n",
              "      <td>1895</td>\n",
              "      <td>\\N</td>\n",
              "      <td>1</td>\n",
              "      <td>Documentary,Short</td>\n",
              "      <td>5.9</td>\n",
              "      <td>967.0</td>\n",
              "      <td>2.985426</td>\n",
              "    </tr>\n",
              "  </tbody>\n",
              "</table>\n",
              "</div>\n",
              "      <button class=\"colab-df-convert\" onclick=\"convertToInteractive('df-6c41a47b-05b7-4673-bcb9-03fdbe325f7e')\"\n",
              "              title=\"Convert this dataframe to an interactive table.\"\n",
              "              style=\"display:none;\">\n",
              "        \n",
              "  <svg xmlns=\"http://www.w3.org/2000/svg\" height=\"24px\"viewBox=\"0 0 24 24\"\n",
              "       width=\"24px\">\n",
              "    <path d=\"M0 0h24v24H0V0z\" fill=\"none\"/>\n",
              "    <path d=\"M18.56 5.44l.94 2.06.94-2.06 2.06-.94-2.06-.94-.94-2.06-.94 2.06-2.06.94zm-11 1L8.5 8.5l.94-2.06 2.06-.94-2.06-.94L8.5 2.5l-.94 2.06-2.06.94zm10 10l.94 2.06.94-2.06 2.06-.94-2.06-.94-.94-2.06-.94 2.06-2.06.94z\"/><path d=\"M17.41 7.96l-1.37-1.37c-.4-.4-.92-.59-1.43-.59-.52 0-1.04.2-1.43.59L10.3 9.45l-7.72 7.72c-.78.78-.78 2.05 0 2.83L4 21.41c.39.39.9.59 1.41.59.51 0 1.02-.2 1.41-.59l7.78-7.78 2.81-2.81c.8-.78.8-2.07 0-2.86zM5.41 20L4 18.59l7.72-7.72 1.47 1.35L5.41 20z\"/>\n",
              "  </svg>\n",
              "      </button>\n",
              "      \n",
              "  <style>\n",
              "    .colab-df-container {\n",
              "      display:flex;\n",
              "      flex-wrap:wrap;\n",
              "      gap: 12px;\n",
              "    }\n",
              "\n",
              "    .colab-df-convert {\n",
              "      background-color: #E8F0FE;\n",
              "      border: none;\n",
              "      border-radius: 50%;\n",
              "      cursor: pointer;\n",
              "      display: none;\n",
              "      fill: #1967D2;\n",
              "      height: 32px;\n",
              "      padding: 0 0 0 0;\n",
              "      width: 32px;\n",
              "    }\n",
              "\n",
              "    .colab-df-convert:hover {\n",
              "      background-color: #E2EBFA;\n",
              "      box-shadow: 0px 1px 2px rgba(60, 64, 67, 0.3), 0px 1px 3px 1px rgba(60, 64, 67, 0.15);\n",
              "      fill: #174EA6;\n",
              "    }\n",
              "\n",
              "    [theme=dark] .colab-df-convert {\n",
              "      background-color: #3B4455;\n",
              "      fill: #D2E3FC;\n",
              "    }\n",
              "\n",
              "    [theme=dark] .colab-df-convert:hover {\n",
              "      background-color: #434B5C;\n",
              "      box-shadow: 0px 1px 3px 1px rgba(0, 0, 0, 0.15);\n",
              "      filter: drop-shadow(0px 1px 2px rgba(0, 0, 0, 0.3));\n",
              "      fill: #FFFFFF;\n",
              "    }\n",
              "  </style>\n",
              "\n",
              "      <script>\n",
              "        const buttonEl =\n",
              "          document.querySelector('#df-6c41a47b-05b7-4673-bcb9-03fdbe325f7e button.colab-df-convert');\n",
              "        buttonEl.style.display =\n",
              "          google.colab.kernel.accessAllowed ? 'block' : 'none';\n",
              "\n",
              "        async function convertToInteractive(key) {\n",
              "          const element = document.querySelector('#df-6c41a47b-05b7-4673-bcb9-03fdbe325f7e');\n",
              "          const dataTable =\n",
              "            await google.colab.kernel.invokeFunction('convertToInteractive',\n",
              "                                                     [key], {});\n",
              "          if (!dataTable) return;\n",
              "\n",
              "          const docLinkHtml = 'Like what you see? Visit the ' +\n",
              "            '<a target=\"_blank\" href=https://colab.research.google.com/notebooks/data_table.ipynb>data table notebook</a>'\n",
              "            + ' to learn more about interactive tables.';\n",
              "          element.innerHTML = '';\n",
              "          dataTable['output_type'] = 'display_data';\n",
              "          await google.colab.output.renderOutput(dataTable, element);\n",
              "          const docLink = document.createElement('div');\n",
              "          docLink.innerHTML = docLinkHtml;\n",
              "          element.appendChild(docLink);\n",
              "        }\n",
              "      </script>\n",
              "    </div>\n",
              "  </div>\n",
              "  "
            ],
            "text/plain": [
              "       titleId  ordering  ... numVotes log10Votes\n",
              "51   tt0000009       3.0  ...     70.0   1.845098\n",
              "74   tt0000012      11.0  ...   8509.0   3.929879\n",
              "76   tt0000012      13.0  ...   8509.0   3.929879\n",
              "85   tt0000012      21.0  ...   8509.0   3.929879\n",
              "131  tt0000016       1.0  ...    967.0   2.985426\n",
              "\n",
              "[5 rows x 20 columns]"
            ]
          },
          "metadata": {},
          "execution_count": 25
        }
      ]
    },
    {
      "cell_type": "code",
      "source": [
        "\n",
        "df_new[\"genres\"].str.lower()"
      ],
      "metadata": {
        "colab": {
          "base_uri": "https://localhost:8080/"
        },
        "id": "8uln6bhuIPlM",
        "outputId": "16810314-ddef-4365-f3ac-a147903b4a76"
      },
      "id": "8uln6bhuIPlM",
      "execution_count": null,
      "outputs": [
        {
          "output_type": "execute_result",
          "data": {
            "text/plain": [
              "51                   romance\n",
              "74         documentary,short\n",
              "76         documentary,short\n",
              "85         documentary,short\n",
              "131        documentary,short\n",
              "                 ...        \n",
              "3423618          documentary\n",
              "3423633       comedy,romance\n",
              "3423637          documentary\n",
              "3423641                short\n",
              "3423645                short\n",
              "Name: genres, Length: 309870, dtype: object"
            ]
          },
          "metadata": {},
          "execution_count": 26
        }
      ]
    },
    {
      "cell_type": "code",
      "source": [
        "group_genre = df_new.groupby('genres')\n",
        "\n",
        "# top genres by logvotes \n",
        "\n",
        "group_log = group_genre['log10Votes'].mean().sort_values(ascending = False).head(10)\n",
        "avg_rating = group_genre['averageRating'].mean().sort_values(ascending = False).head(10)\n",
        "group_log"
      ],
      "metadata": {
        "colab": {
          "base_uri": "https://localhost:8080/"
        },
        "id": "HnWDPiu6I2DE",
        "outputId": "376e7ca4-9b97-43e3-9ba0-b7704e1c0f02"
      },
      "id": "HnWDPiu6I2DE",
      "execution_count": null,
      "outputs": [
        {
          "output_type": "execute_result",
          "data": {
            "text/plain": [
              "genres\n",
              "Action,Fantasy,War            5.405722\n",
              "Action,Family,Romance         4.801753\n",
              "Family,Music,Musical          4.396252\n",
              "Documentary,Sport,Thriller    4.386731\n",
              "Horror,Musical,Sci-Fi         4.340484\n",
              "Biography,Fantasy,Horror      4.271842\n",
              "Animation,Drama,War           4.137558\n",
              "Comedy,Crime,Sport            4.112184\n",
              "Action,Adventure,Sci-Fi       4.064078\n",
              "Adventure,Drama,Sci-Fi        4.033407\n",
              "Name: log10Votes, dtype: float64"
            ]
          },
          "metadata": {},
          "execution_count": 27
        }
      ]
    },
    {
      "cell_type": "code",
      "source": [
        "# top genres based on avg rating\n",
        "avg_rating"
      ],
      "metadata": {
        "colab": {
          "base_uri": "https://localhost:8080/"
        },
        "id": "kj2Ob06PQv64",
        "outputId": "95707e31-1f77-4928-a5c9-46c6401db0b1"
      },
      "id": "kj2Ob06PQv64",
      "execution_count": null,
      "outputs": [
        {
          "output_type": "execute_result",
          "data": {
            "text/plain": [
              "genres\n",
              "Documentary,History,Western    9.300000\n",
              "History,Sport                  9.200000\n",
              "Documentary,News,Reality-TV    9.150000\n",
              "Action,Musical,Short           9.100000\n",
              "Action,Fantasy,Short           9.000000\n",
              "Biography,Comedy,Sci-Fi        9.000000\n",
              "Crime,Reality-TV               8.966667\n",
              "Comedy,Reality-TV,Talk-Show    8.800000\n",
              "Short,Thriller,War             8.700000\n",
              "Action,Biography,Short         8.600000\n",
              "Name: averageRating, dtype: float64"
            ]
          },
          "metadata": {},
          "execution_count": 28
        }
      ]
    },
    {
      "cell_type": "code",
      "source": [
        "group_avg = df_new.groupby('averageRating').mean()\n",
        "\n",
        "plt.figure(figsize=(6,4),dpi = 100)\n",
        "plt.scatter(x = group_avg.index, y = group_avg['log10Votes'],color = 'red')"
      ],
      "metadata": {
        "colab": {
          "base_uri": "https://localhost:8080/",
          "height": 379
        },
        "id": "Rp85RqppMTed",
        "outputId": "461f36d6-767f-4deb-903c-f8ad349bfa43"
      },
      "id": "Rp85RqppMTed",
      "execution_count": null,
      "outputs": [
        {
          "output_type": "execute_result",
          "data": {
            "text/plain": [
              "<matplotlib.collections.PathCollection at 0x7f83639af710>"
            ]
          },
          "metadata": {},
          "execution_count": 29
        },
        {
          "output_type": "display_data",
          "data": {
            "image/png": "[encoded data removed]",
            "text/plain": [
              "<Figure size 600x400 with 1 Axes>"
            ]
          },
          "metadata": {
            "needs_background": "light"
          }
        }
      ]
    },
    {
      "cell_type": "code",
      "source": [
        "#using sklearn\n",
        "import matplotlib.pyplot as plt\n",
        "from sklearn.linear_model import LinearRegression"
      ],
      "metadata": {
        "id": "7SRCU1ZAAiX5"
      },
      "id": "7SRCU1ZAAiX5",
      "execution_count": null,
      "outputs": []
    },
    {
      "cell_type": "code",
      "source": [
        "# obtain the x and y values from the groupby dataframe\n",
        "x = group_avg.index.values\n",
        "X = x.reshape(-1,1)\n",
        "y = group_avg['log10Votes'].values\n",
        "y_train = y\n",
        "\n",
        "\n",
        "reg = LinearRegression().fit(X, y)\n",
        "# slope of reg line\n",
        "coef = reg.coef_\n",
        "\n",
        "# intercept of the regression line\n",
        "\n",
        "intercept_ = reg.intercept_\n",
        "print('Score: {} Intercept: {} Slope: {}'.format(reg.score(X, y),intercept_,coef[0]))"
      ],
      "metadata": {
        "colab": {
          "base_uri": "https://localhost:8080/"
        },
        "id": "ezNB3jboS0XR",
        "outputId": "c82eba08-f923-4424-b826-58018665bdeb"
      },
      "id": "ezNB3jboS0XR",
      "execution_count": null,
      "outputs": [
        {
          "output_type": "stream",
          "name": "stdout",
          "text": [
            "Score: 0.26321208475337476 Intercept: 2.387452274629761 Slope: -0.059545493225700595\n"
          ]
        }
      ]
    },
    {
      "cell_type": "code",
      "source": [
        "# scipy\n",
        "from scipy.stats import linregress"
      ],
      "metadata": {
        "id": "7KIvJ90bEquP"
      },
      "id": "7KIvJ90bEquP",
      "execution_count": null,
      "outputs": []
    },
    {
      "cell_type": "code",
      "source": [
        "res = linregress(x, y)\n",
        "\n",
        "# coeffiecient of determination\n",
        "\n",
        "print(f\"R-squared: {res.rvalue**2:.6f} Intercept: {res.intercept} and slope: {res.slope}\")\n",
        "\n",
        "# plots of the fitted line\n",
        "\n",
        "plt.figure(figsize=(6,4),dpi = 100)\n",
        "plt.plot(x, y, 'o', label='original data')\n",
        "plt.plot(x, res.intercept + res.slope*x, 'r', label='fitted line')\n",
        "plt.legend()\n",
        "plt.show()\n"
      ],
      "metadata": {
        "colab": {
          "base_uri": "https://localhost:8080/",
          "height": 379
        },
        "id": "A6MtTXRaEvPQ",
        "outputId": "34aae4a3-58f3-4661-fa4f-750e963a8a76"
      },
      "id": "A6MtTXRaEvPQ",
      "execution_count": null,
      "outputs": [
        {
          "output_type": "stream",
          "name": "stdout",
          "text": [
            "R-squared: 0.263212 Intercept: 2.387452274629761 and slope: -0.05954549322570058\n"
          ]
        },
        {
          "output_type": "display_data",
          "data": {
            "image/png": "[encoded data removed]",
            "text/plain": [
              "<Figure size 600x400 with 1 Axes>"
            ]
          },
          "metadata": {
            "needs_background": "light"
          }
        }
      ]
    },
    {
      "cell_type": "code",
      "source": [
        "# Pytorch\n",
        "import torch\n",
        "import torch.nn as nn"
      ],
      "metadata": {
        "id": "Hu38Fn4GUORx"
      },
      "id": "Hu38Fn4GUORx",
      "execution_count": null,
      "outputs": []
    },
    {
      "cell_type": "code",
      "source": [
        "# inherit values from previous X and Y\n",
        "y = y_train\n",
        "X = torch.from_numpy(x.reshape(-1,1).astype(np.float32))\n",
        "y = torch.from_numpy(y.astype(np.float32))\n",
        "y = y.view(y.shape[0], 1)\n",
        "# samples\n",
        "\n",
        "n_samples, n_features = X.shape\n",
        "\n",
        "\n",
        "# initializing the model\n",
        "input_size = n_features\n",
        "output_size = 1\n",
        "model = nn.Linear(input_size, output_size)\n",
        "learning_rate = 0.01\n",
        "\n",
        "# Loss criterion\n",
        "criterion = nn.MSELoss()\n",
        "optimizer = torch.optim.SGD(model.parameters(), lr=learning_rate)  \n",
        "\n",
        "# training with 1000 epochs\n",
        "\n",
        "num_epochs = 1000\n",
        "for epoch in range(num_epochs):\n",
        "  \n",
        "    y_predicted = model(X)\n",
        "    loss = criterion(y_predicted, y)\n",
        "    \n",
        "    loss.backward()\n",
        "    optimizer.step()\n",
        "\n",
        "    optimizer.zero_grad()\n",
        "\n",
        "\n",
        "# make plots\n",
        "\n",
        "predicted = model(X).detach().numpy()\n",
        "\n",
        "plt.figure(figsize=(6,4),dpi = 100)\n",
        "plt.plot(X, y, 'bo')\n",
        "plt.plot(X, predicted, 'r', label='fitted line')\n",
        "plt.legend()\n",
        "plt.show()"
      ],
      "metadata": {
        "colab": {
          "base_uri": "https://localhost:8080/",
          "height": 362
        },
        "id": "98BB3WCjUeKI",
        "outputId": "b9cf06ac-a10f-459f-d04d-7acf9ead339c"
      },
      "id": "98BB3WCjUeKI",
      "execution_count": null,
      "outputs": [
        {
          "output_type": "display_data",
          "data": {
            "image/png": "[encoded data removed]",
            "text/plain": [
              "<Figure size 600x400 with 1 Axes>"
            ]
          },
          "metadata": {
            "needs_background": "light"
          }
        }
      ]
    },
    {
      "cell_type": "markdown",
      "source": [
        "*Training the model for a thousand epochs, provides similar results as for the Scipy and Sk Learn*"
      ],
      "metadata": {
        "id": "uGTssFOnZB26"
      },
      "id": "uGTssFOnZB26"
    },
    {
      "cell_type": "code",
      "source": [
        ""
      ],
      "metadata": {
        "id": "aP4MRv2GZVm_"
      },
      "id": "aP4MRv2GZVm_",
      "execution_count": null,
      "outputs": []
    }
  ],
  "metadata": {
    "kernelspec": {
      "display_name": "Python 3 (ipykernel)",
      "language": "python",
      "name": "python3"
    },
    "language_info": {
      "codemirror_mode": {
        "name": "ipython",
        "version": 3
      },
      "file_extension": ".py",
      "mimetype": "text/x-python",
      "name": "python",
      "nbconvert_exporter": "python",
      "pygments_lexer": "ipython3",
      "version": "3.9.7"
    },
    "colab": {
      "name": "assignment.ipynb",
      "provenance": [],
      "collapsed_sections": [],
      "include_colab_link": true
    }
  },
  "nbformat": 4,
  "nbformat_minor": 5
}