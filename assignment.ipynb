{
 "cells": [
  {
   "cell_type": "code",
   "execution_count": 8,
   "id": "6a6771ef",
   "metadata": {},
   "outputs": [],
   "source": [
    "import turtle"
   ]
  },
  {
   "cell_type": "code",
   "execution_count": 9,
   "id": "3aec49d3",
   "metadata": {},
   "outputs": [],
   "source": [
    "try:\n",
    "    bob = turtle.Turtle()\n",
    "except:\n",
    "    bob = turtle.Turtle()"
   ]
  },
  {
   "cell_type": "code",
   "execution_count": 10,
   "id": "dd763cff",
   "metadata": {},
   "outputs": [
    {
     "name": "stdout",
     "output_type": "stream",
     "text": [
      "0\n",
      "1\n",
      "2\n",
      "3\n",
      "4\n",
      "5\n"
     ]
    }
   ],
   "source": [
    "bob.color(\"blue\")\n",
    "\n",
    "for num in range(6):\n",
    "    print(num)\n",
    "    bob.forward(100)\n",
    "    bob.left(60)\n",
    "\n",
    "\n",
    "\n",
    "\n",
    "\n",
    "\n",
    "\n",
    "turtle.done()"
   ]
  },
  {
   "cell_type": "code",
   "execution_count": 12,
   "id": "ea25baf8",
   "metadata": {},
   "outputs": [
    {
     "name": "stdout",
     "output_type": "stream",
     "text": [
      "Requirement already satisfied: numpy in c:\\users\\25472\\anaconda3\\lib\\site-packages (1.20.3)\n",
      "Requirement already satisfied: pandas in c:\\users\\25472\\anaconda3\\lib\\site-packages (1.3.4)\n",
      "Requirement already satisfied: scipy in c:\\users\\25472\\anaconda3\\lib\\site-packages (1.7.1)\n",
      "Requirement already satisfied: scikit-learn in c:\\users\\25472\\anaconda3\\lib\\site-packages (0.24.2)\n",
      "Collecting torch\n",
      "  Downloading torch-1.10.1-cp39-cp39-win_amd64.whl (226.5 MB)\n",
      "Requirement already satisfied: pytz>=2017.3 in c:\\users\\25472\\anaconda3\\lib\\site-packages (from pandas) (2021.3)\n",
      "Requirement already satisfied: python-dateutil>=2.7.3 in c:\\users\\25472\\anaconda3\\lib\\site-packages (from pandas) (2.8.2)\n",
      "Requirement already satisfied: threadpoolctl>=2.0.0 in c:\\users\\25472\\anaconda3\\lib\\site-packages (from scikit-learn) (2.2.0)\n",
      "Requirement already satisfied: joblib>=0.11 in c:\\users\\25472\\anaconda3\\lib\\site-packages (from scikit-learn) (1.1.0)\n",
      "Requirement already satisfied: typing-extensions in c:\\users\\25472\\anaconda3\\lib\\site-packages (from torch) (3.10.0.2)\n",
      "Requirement already satisfied: six>=1.5 in c:\\users\\25472\\anaconda3\\lib\\site-packages (from python-dateutil>=2.7.3->pandas) (1.16.0)\n",
      "Installing collected packages: torch\n",
      "Successfully installed torch-1.10.1\n"
     ]
    }
   ],
   "source": [
    "!pip install numpy pandas scipy scikit-learn torch"
   ]
  },
  {
   "cell_type": "code",
   "execution_count": 14,
   "id": "a0ff1644",
   "metadata": {},
   "outputs": [],
   "source": [
    "# imports\n",
    "import matplotlib.pyplot as plt\n",
    "import numpy as np\n",
    "import pandas as pd\n",
    "import scipy"
   ]
  },
  {
   "cell_type": "code",
   "execution_count": 15,
   "id": "46ec1fe8",
   "metadata": {},
   "outputs": [
    {
     "data": {
      "text/plain": [
       "'C:\\\\Users\\\\25472'"
      ]
     },
     "execution_count": 15,
     "metadata": {},
     "output_type": "execute_result"
    }
   ],
   "source": [
    "pwd"
   ]
  },
  {
   "cell_type": "code",
   "execution_count": 16,
   "id": "e3706102",
   "metadata": {},
   "outputs": [
    {
     "name": "stdout",
     "output_type": "stream",
     "text": [
      "C:\\Users\\25472\\Documents\\DSI\n"
     ]
    }
   ],
   "source": [
    "cd Documents/DSI"
   ]
  },
  {
   "cell_type": "code",
   "execution_count": 17,
   "id": "fa787fa6",
   "metadata": {},
   "outputs": [
    {
     "data": {
      "text/plain": [
       "'C:\\\\Users\\\\25472\\\\Documents\\\\DSI'"
      ]
     },
     "execution_count": 17,
     "metadata": {},
     "output_type": "execute_result"
    }
   ],
   "source": [
    "pwd"
   ]
  },
  {
   "cell_type": "code",
   "execution_count": 19,
   "id": "1617decb",
   "metadata": {},
   "outputs": [
    {
     "name": "stdout",
     "output_type": "stream",
     "text": [
      "C:\\Users\\25472\\Documents\\DSI\\DSI_Assignment\n"
     ]
    }
   ],
   "source": [
    "cd DSI_Assignment"
   ]
  },
  {
   "cell_type": "code",
   "execution_count": 20,
   "id": "c8204e87",
   "metadata": {},
   "outputs": [
    {
     "name": "stdout",
     "output_type": "stream",
     "text": [
      " Volume in drive C is OS\n",
      " Volume Serial Number is DEB3-950A\n",
      "\n",
      " Directory of C:\\Users\\25472\\Documents\\DSI\\DSI_Assignment\n",
      "\n",
      "09/01/2022  14:50    <DIR>          .\n",
      "09/01/2022  14:50    <DIR>          ..\n",
      "13/10/2018  14:30        54,067,692 title.akas.tsv.gz\n",
      "13/10/2018  13:44        96,073,544 title.basics.tsv.gz\n",
      "13/10/2018  12:41         4,317,750 title.ratings.tsv.gz\n",
      "               3 File(s)    154,458,986 bytes\n",
      "               2 Dir(s)  415,806,439,424 bytes free\n"
     ]
    }
   ],
   "source": [
    "ls"
   ]
  },
  {
   "cell_type": "code",
   "execution_count": 26,
   "id": "21485d9a",
   "metadata": {},
   "outputs": [],
   "source": [
    "df0 = pd.read_csv(\"title.akas.tsv.gz\",compression='gzip',sep = '\\t',low_memory = False)\n",
    "df1 = pd.read_csv(\"title.basics.tsv.gz\",compression='gzip',sep = '\\t',low_memory = False)\n",
    "df2 = pd.read_csv(\"title.ratings.tsv.gz\",compression='gzip',sep = '\\t',low_memory = False)"
   ]
  },
  {
   "cell_type": "code",
   "execution_count": 35,
   "id": "4ac1f9d3",
   "metadata": {},
   "outputs": [
    {
     "data": {
      "text/plain": [
       "(3423660, 8)"
      ]
     },
     "execution_count": 35,
     "metadata": {},
     "output_type": "execute_result"
    }
   ],
   "source": [
    "df0.shape"
   ]
  },
  {
   "cell_type": "code",
   "execution_count": 36,
   "id": "89145ec7",
   "metadata": {},
   "outputs": [
    {
     "data": {
      "text/plain": [
       "Index(['titleId', 'ordering', 'title', 'region', 'language', 'types',\n",
       "       'attributes', 'isOriginalTitle'],\n",
       "      dtype='object')"
      ]
     },
     "execution_count": 36,
     "metadata": {},
     "output_type": "execute_result"
    }
   ],
   "source": [
    "df0.columns"
   ]
  },
  {
   "cell_type": "code",
   "execution_count": 40,
   "id": "908c03c3",
   "metadata": {},
   "outputs": [
    {
     "data": {
      "text/html": [
       "<div>\n",
       "<style scoped>\n",
       "    .dataframe tbody tr th:only-of-type {\n",
       "        vertical-align: middle;\n",
       "    }\n",
       "\n",
       "    .dataframe tbody tr th {\n",
       "        vertical-align: top;\n",
       "    }\n",
       "\n",
       "    .dataframe thead th {\n",
       "        text-align: right;\n",
       "    }\n",
       "</style>\n",
       "<table border=\"1\" class=\"dataframe\">\n",
       "  <thead>\n",
       "    <tr style=\"text-align: right;\">\n",
       "      <th></th>\n",
       "      <th>titleId</th>\n",
       "      <th>ordering</th>\n",
       "      <th>title</th>\n",
       "      <th>region</th>\n",
       "      <th>language</th>\n",
       "      <th>types</th>\n",
       "      <th>attributes</th>\n",
       "      <th>isOriginalTitle</th>\n",
       "    </tr>\n",
       "  </thead>\n",
       "  <tbody>\n",
       "    <tr>\n",
       "      <th>0</th>\n",
       "      <td>tt0000001</td>\n",
       "      <td>1</td>\n",
       "      <td>Carmencita - spanyol tánc</td>\n",
       "      <td>HU</td>\n",
       "      <td>\\N</td>\n",
       "      <td>imdbDisplay</td>\n",
       "      <td>\\N</td>\n",
       "      <td>0</td>\n",
       "    </tr>\n",
       "    <tr>\n",
       "      <th>1</th>\n",
       "      <td>tt0000001</td>\n",
       "      <td>2</td>\n",
       "      <td>Карменсита</td>\n",
       "      <td>RU</td>\n",
       "      <td>\\N</td>\n",
       "      <td>\\N</td>\n",
       "      <td>\\N</td>\n",
       "      <td>0</td>\n",
       "    </tr>\n",
       "    <tr>\n",
       "      <th>2</th>\n",
       "      <td>tt0000001</td>\n",
       "      <td>3</td>\n",
       "      <td>Carmencita</td>\n",
       "      <td>US</td>\n",
       "      <td>\\N</td>\n",
       "      <td>\\N</td>\n",
       "      <td>\\N</td>\n",
       "      <td>0</td>\n",
       "    </tr>\n",
       "    <tr>\n",
       "      <th>3</th>\n",
       "      <td>tt0000001</td>\n",
       "      <td>4</td>\n",
       "      <td>Carmencita</td>\n",
       "      <td>\\N</td>\n",
       "      <td>\\N</td>\n",
       "      <td>original</td>\n",
       "      <td>\\N</td>\n",
       "      <td>1</td>\n",
       "    </tr>\n",
       "    <tr>\n",
       "      <th>4</th>\n",
       "      <td>tt0000002</td>\n",
       "      <td>1</td>\n",
       "      <td>Le clown et ses chiens</td>\n",
       "      <td>\\N</td>\n",
       "      <td>\\N</td>\n",
       "      <td>original</td>\n",
       "      <td>\\N</td>\n",
       "      <td>1</td>\n",
       "    </tr>\n",
       "  </tbody>\n",
       "</table>\n",
       "</div>"
      ],
      "text/plain": [
       "     titleId  ordering                      title region language  \\\n",
       "0  tt0000001         1  Carmencita - spanyol tánc     HU       \\N   \n",
       "1  tt0000001         2                 Карменсита     RU       \\N   \n",
       "2  tt0000001         3                 Carmencita     US       \\N   \n",
       "3  tt0000001         4                 Carmencita     \\N       \\N   \n",
       "4  tt0000002         1     Le clown et ses chiens     \\N       \\N   \n",
       "\n",
       "         types attributes isOriginalTitle  \n",
       "0  imdbDisplay         \\N               0  \n",
       "1           \\N         \\N               0  \n",
       "2           \\N         \\N               0  \n",
       "3     original         \\N               1  \n",
       "4     original         \\N               1  "
      ]
     },
     "execution_count": 40,
     "metadata": {},
     "output_type": "execute_result"
    }
   ],
   "source": [
    "df0.head(5)"
   ]
  },
  {
   "cell_type": "code",
   "execution_count": 32,
   "id": "3505edde",
   "metadata": {},
   "outputs": [
    {
     "data": {
      "text/plain": [
       "(5330276, 9)"
      ]
     },
     "execution_count": 32,
     "metadata": {},
     "output_type": "execute_result"
    }
   ],
   "source": [
    "df1.shape"
   ]
  },
  {
   "cell_type": "code",
   "execution_count": 37,
   "id": "04379642",
   "metadata": {},
   "outputs": [
    {
     "data": {
      "text/plain": [
       "Index(['tconst', 'titleType', 'primaryTitle', 'originalTitle', 'isAdult',\n",
       "       'startYear', 'endYear', 'runtimeMinutes', 'genres'],\n",
       "      dtype='object')"
      ]
     },
     "execution_count": 37,
     "metadata": {},
     "output_type": "execute_result"
    }
   ],
   "source": [
    "df1.columns"
   ]
  },
  {
   "cell_type": "code",
   "execution_count": 39,
   "id": "ec060ee5",
   "metadata": {},
   "outputs": [
    {
     "data": {
      "text/html": [
       "<div>\n",
       "<style scoped>\n",
       "    .dataframe tbody tr th:only-of-type {\n",
       "        vertical-align: middle;\n",
       "    }\n",
       "\n",
       "    .dataframe tbody tr th {\n",
       "        vertical-align: top;\n",
       "    }\n",
       "\n",
       "    .dataframe thead th {\n",
       "        text-align: right;\n",
       "    }\n",
       "</style>\n",
       "<table border=\"1\" class=\"dataframe\">\n",
       "  <thead>\n",
       "    <tr style=\"text-align: right;\">\n",
       "      <th></th>\n",
       "      <th>tconst</th>\n",
       "      <th>titleType</th>\n",
       "      <th>primaryTitle</th>\n",
       "      <th>originalTitle</th>\n",
       "      <th>isAdult</th>\n",
       "      <th>startYear</th>\n",
       "      <th>endYear</th>\n",
       "      <th>runtimeMinutes</th>\n",
       "      <th>genres</th>\n",
       "    </tr>\n",
       "  </thead>\n",
       "  <tbody>\n",
       "    <tr>\n",
       "      <th>0</th>\n",
       "      <td>tt0000001</td>\n",
       "      <td>short</td>\n",
       "      <td>Carmencita</td>\n",
       "      <td>Carmencita</td>\n",
       "      <td>0</td>\n",
       "      <td>1894</td>\n",
       "      <td>\\N</td>\n",
       "      <td>1</td>\n",
       "      <td>Documentary,Short</td>\n",
       "    </tr>\n",
       "    <tr>\n",
       "      <th>1</th>\n",
       "      <td>tt0000002</td>\n",
       "      <td>short</td>\n",
       "      <td>Le clown et ses chiens</td>\n",
       "      <td>Le clown et ses chiens</td>\n",
       "      <td>0</td>\n",
       "      <td>1892</td>\n",
       "      <td>\\N</td>\n",
       "      <td>5</td>\n",
       "      <td>Animation,Short</td>\n",
       "    </tr>\n",
       "    <tr>\n",
       "      <th>2</th>\n",
       "      <td>tt0000003</td>\n",
       "      <td>short</td>\n",
       "      <td>Pauvre Pierrot</td>\n",
       "      <td>Pauvre Pierrot</td>\n",
       "      <td>0</td>\n",
       "      <td>1892</td>\n",
       "      <td>\\N</td>\n",
       "      <td>4</td>\n",
       "      <td>Animation,Comedy,Romance</td>\n",
       "    </tr>\n",
       "    <tr>\n",
       "      <th>3</th>\n",
       "      <td>tt0000004</td>\n",
       "      <td>short</td>\n",
       "      <td>Un bon bock</td>\n",
       "      <td>Un bon bock</td>\n",
       "      <td>0</td>\n",
       "      <td>1892</td>\n",
       "      <td>\\N</td>\n",
       "      <td>\\N</td>\n",
       "      <td>Animation,Short</td>\n",
       "    </tr>\n",
       "    <tr>\n",
       "      <th>4</th>\n",
       "      <td>tt0000005</td>\n",
       "      <td>short</td>\n",
       "      <td>Blacksmith Scene</td>\n",
       "      <td>Blacksmith Scene</td>\n",
       "      <td>0</td>\n",
       "      <td>1893</td>\n",
       "      <td>\\N</td>\n",
       "      <td>1</td>\n",
       "      <td>Comedy,Short</td>\n",
       "    </tr>\n",
       "  </tbody>\n",
       "</table>\n",
       "</div>"
      ],
      "text/plain": [
       "      tconst titleType            primaryTitle           originalTitle  \\\n",
       "0  tt0000001     short              Carmencita              Carmencita   \n",
       "1  tt0000002     short  Le clown et ses chiens  Le clown et ses chiens   \n",
       "2  tt0000003     short          Pauvre Pierrot          Pauvre Pierrot   \n",
       "3  tt0000004     short             Un bon bock             Un bon bock   \n",
       "4  tt0000005     short        Blacksmith Scene        Blacksmith Scene   \n",
       "\n",
       "   isAdult startYear endYear runtimeMinutes                    genres  \n",
       "0        0      1894      \\N              1         Documentary,Short  \n",
       "1        0      1892      \\N              5           Animation,Short  \n",
       "2        0      1892      \\N              4  Animation,Comedy,Romance  \n",
       "3        0      1892      \\N             \\N           Animation,Short  \n",
       "4        0      1893      \\N              1              Comedy,Short  "
      ]
     },
     "execution_count": 39,
     "metadata": {},
     "output_type": "execute_result"
    }
   ],
   "source": [
    "df1.head()"
   ]
  },
  {
   "cell_type": "code",
   "execution_count": 33,
   "id": "9ecfb511",
   "metadata": {},
   "outputs": [
    {
     "data": {
      "text/plain": [
       "(874203, 3)"
      ]
     },
     "execution_count": 33,
     "metadata": {},
     "output_type": "execute_result"
    }
   ],
   "source": [
    "df2.shape"
   ]
  },
  {
   "cell_type": "code",
   "execution_count": 38,
   "id": "39a518da",
   "metadata": {},
   "outputs": [
    {
     "data": {
      "text/plain": [
       "Index(['tconst', 'averageRating', 'numVotes'], dtype='object')"
      ]
     },
     "execution_count": 38,
     "metadata": {},
     "output_type": "execute_result"
    }
   ],
   "source": [
    "df2.columns"
   ]
  },
  {
   "cell_type": "code",
   "execution_count": 34,
   "id": "e3d11a44",
   "metadata": {},
   "outputs": [],
   "source": [
    "# question 2\n",
    "df0.drop_duplicates(inplace=True)\n",
    "df1.drop_duplicates(inplace=True)\n",
    "df2.drop_duplicates(inplace=True)"
   ]
  },
  {
   "cell_type": "code",
   "execution_count": 49,
   "id": "ac6efebd",
   "metadata": {},
   "outputs": [
    {
     "name": "stderr",
     "output_type": "stream",
     "text": [
      "\n",
      "KeyboardInterrupt\n",
      "\n"
     ]
    }
   ],
   "source": [
    "# inner merge\n",
    "df_inner_1 = df0.merge(df1, how='inner', left_on='titleId', right_on='tconst')\n",
    "df_inner = df_inner_1.merge(df2, how='inner', on='tconst')"
   ]
  },
  {
   "cell_type": "code",
   "execution_count": null,
   "id": "dda48287",
   "metadata": {},
   "outputs": [],
   "source": [
    "# outer merge\n",
    "df_outer_1 = df0.merge(df1, how='outer', left_on='titleId', right_on='tconst')\n",
    "df_outer = df_outer_1.merge(df2, how='outer', on='tconst')"
   ]
  },
  {
   "cell_type": "code",
   "execution_count": null,
   "id": "1c63eb8a",
   "metadata": {},
   "outputs": [],
   "source": [
    "print(f'The shape of inner merge is {df_inner.shape} and  outer merge is {df_outer.shape}')"
   ]
  },
  {
   "cell_type": "code",
   "execution_count": null,
   "id": "353870a2",
   "metadata": {},
   "outputs": [],
   "source": [
    "# unique method\n",
    "df_outer.columns"
   ]
  },
  {
   "cell_type": "code",
   "execution_count": null,
   "id": "b824659f",
   "metadata": {},
   "outputs": [],
   "source": [
    "df_outer"
   ]
  },
  {
   "cell_type": "code",
   "execution_count": 50,
   "id": "fe6ab380",
   "metadata": {},
   "outputs": [
    {
     "name": "stdout",
     "output_type": "stream",
     "text": [
      "Collecting ColabTurtle\n",
      "  Downloading ColabTurtle-2.1.0.tar.gz (6.8 kB)\n",
      "Building wheels for collected packages: ColabTurtle\n",
      "  Building wheel for ColabTurtle (setup.py): started\n",
      "  Building wheel for ColabTurtle (setup.py): finished with status 'done'\n",
      "  Created wheel for ColabTurtle: filename=ColabTurtle-2.1.0-py3-none-any.whl size=7655 sha256=afdff8b524c59c99e2ce5982701089c16dabdffbfd221e19afdcb55633e61efe\n",
      "  Stored in directory: c:\\users\\25472\\appdata\\local\\pip\\cache\\wheels\\a8\\ab\\ce\\4aca5e858d2561104f45e6164390067231381836678b908064\n",
      "Successfully built ColabTurtle\n",
      "Installing collected packages: ColabTurtle\n",
      "Successfully installed ColabTurtle-2.1.0\n"
     ]
    }
   ],
   "source": [
    "import turtle\n",
    "\n",
    "# colab turtle\n",
    "!pip3 install ColabTurtle\n",
    "from ColabTurtle.Turtle import *\n",
    "\n",
    "# imports to make plots\n",
    "\n",
    "import matplotlib.pyplot as plt\n",
    "from matplotlib.patches import Polygon\n",
    "import numpy as np"
   ]
  },
  {
   "cell_type": "code",
   "execution_count": 51,
   "id": "987fc910",
   "metadata": {},
   "outputs": [
    {
     "data": {
      "text/html": [
       "\n",
       "      <svg width=\"800\" height=\"500\">\n",
       "        <rect width=\"100%\" height=\"100%\" fill=\"black\"/>\n",
       "        <line x1=\"250\" y1=\"350\" x2=\"250.0\" y2=\"125.0\" stroke-linecap=\"round\" style=\"stroke:white;stroke-width:4\"/><line x1=\"250.0\" y1=\"125.0\" x2=\"444.856\" y2=\"12.5\" stroke-linecap=\"round\" style=\"stroke:white;stroke-width:4\"/><line x1=\"444.856\" y1=\"12.5\" x2=\"639.712\" y2=\"125.0\" stroke-linecap=\"round\" style=\"stroke:white;stroke-width:4\"/><line x1=\"639.712\" y1=\"125.0\" x2=\"639.712\" y2=\"350.0\" stroke-linecap=\"round\" style=\"stroke:white;stroke-width:4\"/><line x1=\"639.712\" y1=\"350.0\" x2=\"444.856\" y2=\"462.5\" stroke-linecap=\"round\" style=\"stroke:white;stroke-width:4\"/><line x1=\"444.856\" y1=\"462.5\" x2=\"250.0\" y2=\"350.0\" stroke-linecap=\"round\" style=\"stroke:white;stroke-width:4\"/><line x1=\"250\" y1=\"350\" x2=\"250.0\" y2=\"125.0\" stroke-linecap=\"round\" style=\"stroke:white;stroke-width:4\"/><line x1=\"250.0\" y1=\"125.0\" x2=\"55.144\" y2=\"12.5\" stroke-linecap=\"round\" style=\"stroke:white;stroke-width:4\"/><line x1=\"55.144\" y1=\"12.5\" x2=\"-139.712\" y2=\"125.0\" stroke-linecap=\"round\" style=\"stroke:white;stroke-width:4\"/><line x1=\"-139.712\" y1=\"125.0\" x2=\"-139.712\" y2=\"350.0\" stroke-linecap=\"round\" style=\"stroke:white;stroke-width:4\"/><line x1=\"-139.712\" y1=\"350.0\" x2=\"55.144\" y2=\"462.5\" stroke-linecap=\"round\" style=\"stroke:white;stroke-width:4\"/><line x1=\"55.144\" y1=\"462.5\" x2=\"250.0\" y2=\"350.0\" stroke-linecap=\"round\" style=\"stroke:white;stroke-width:4\"/><line x1=\"250\" y1=\"350\" x2=\"250.0\" y2=\"125.0\" stroke-linecap=\"round\" style=\"stroke:white;stroke-width:4\"/><line x1=\"250.0\" y1=\"125.0\" x2=\"444.856\" y2=\"12.5\" stroke-linecap=\"round\" style=\"stroke:white;stroke-width:4\"/><line x1=\"444.856\" y1=\"12.5\" x2=\"639.712\" y2=\"125.0\" stroke-linecap=\"round\" style=\"stroke:white;stroke-width:4\"/><line x1=\"639.712\" y1=\"125.0\" x2=\"639.712\" y2=\"350.0\" stroke-linecap=\"round\" style=\"stroke:white;stroke-width:4\"/><line x1=\"639.712\" y1=\"350.0\" x2=\"444.856\" y2=\"462.5\" stroke-linecap=\"round\" style=\"stroke:white;stroke-width:4\"/><line x1=\"444.856\" y1=\"462.5\" x2=\"250.0\" y2=\"350.0\" stroke-linecap=\"round\" style=\"stroke:white;stroke-width:4\"/><line x1=\"250\" y1=\"350\" x2=\"250.0\" y2=\"125.0\" stroke-linecap=\"round\" style=\"stroke:white;stroke-width:4\"/><line x1=\"250.0\" y1=\"125.0\" x2=\"444.856\" y2=\"12.5\" stroke-linecap=\"round\" style=\"stroke:white;stroke-width:4\"/><line x1=\"444.856\" y1=\"12.5\" x2=\"639.712\" y2=\"125.0\" stroke-linecap=\"round\" style=\"stroke:white;stroke-width:4\"/><line x1=\"639.712\" y1=\"125.0\" x2=\"639.712\" y2=\"350.0\" stroke-linecap=\"round\" style=\"stroke:white;stroke-width:4\"/><line x1=\"639.712\" y1=\"350.0\" x2=\"444.856\" y2=\"462.5\" stroke-linecap=\"round\" style=\"stroke:white;stroke-width:4\"/><line x1=\"444.856\" y1=\"462.5\" x2=\"250.0\" y2=\"350.0\" stroke-linecap=\"round\" style=\"stroke:white;stroke-width:4\"/><line x1=\"250\" y1=\"350\" x2=\"250.0\" y2=\"125.0\" stroke-linecap=\"round\" style=\"stroke:white;stroke-width:4\"/><line x1=\"250.0\" y1=\"125.0\" x2=\"444.856\" y2=\"12.5\" stroke-linecap=\"round\" style=\"stroke:white;stroke-width:4\"/><line x1=\"444.856\" y1=\"12.5\" x2=\"639.712\" y2=\"125.0\" stroke-linecap=\"round\" style=\"stroke:white;stroke-width:4\"/><line x1=\"639.712\" y1=\"125.0\" x2=\"639.712\" y2=\"350.0\" stroke-linecap=\"round\" style=\"stroke:white;stroke-width:4\"/><line x1=\"639.712\" y1=\"350.0\" x2=\"444.856\" y2=\"462.5\" stroke-linecap=\"round\" style=\"stroke:white;stroke-width:4\"/><line x1=\"444.856\" y1=\"462.5\" x2=\"250.0\" y2=\"350.0\" stroke-linecap=\"round\" style=\"stroke:white;stroke-width:4\"/><line x1=\"250\" y1=\"350\" x2=\"250.0\" y2=\"125.0\" stroke-linecap=\"round\" style=\"stroke:white;stroke-width:4\"/><line x1=\"250.0\" y1=\"125.0\" x2=\"444.856\" y2=\"12.5\" stroke-linecap=\"round\" style=\"stroke:white;stroke-width:4\"/><line x1=\"444.856\" y1=\"12.5\" x2=\"639.712\" y2=\"125.0\" stroke-linecap=\"round\" style=\"stroke:white;stroke-width:4\"/><line x1=\"639.712\" y1=\"125.0\" x2=\"639.712\" y2=\"350.0\" stroke-linecap=\"round\" style=\"stroke:white;stroke-width:4\"/><line x1=\"639.712\" y1=\"350.0\" x2=\"444.856\" y2=\"462.5\" stroke-linecap=\"round\" style=\"stroke:white;stroke-width:4\"/><line x1=\"444.856\" y1=\"462.5\" x2=\"250.0\" y2=\"350.0\" stroke-linecap=\"round\" style=\"stroke:white;stroke-width:4\"/>\n",
       "        <g visibility=visible transform=\"rotate(360.0,250.0,350.0) translate(232.0, 332.0)\">\n",
       "<path style=\" stroke:none;fill-rule:evenodd;fill:white;fill-opacity:1;\" d=\"M 18.214844 0.632812 C 16.109375 1.800781 15.011719 4.074219 15.074219 7.132812 L 15.085938 7.652344 L 14.785156 7.496094 C 13.476562 6.824219 11.957031 6.671875 10.40625 7.066406 C 8.46875 7.550781 6.515625 9.15625 4.394531 11.992188 C 3.0625 13.777344 2.679688 14.636719 3.042969 15.027344 L 3.15625 15.152344 L 3.519531 15.152344 C 4.238281 15.152344 4.828125 14.886719 8.1875 13.039062 C 9.386719 12.378906 10.371094 11.839844 10.378906 11.839844 C 10.386719 11.839844 10.355469 11.929688 10.304688 12.035156 C 9.832031 13.09375 9.257812 14.820312 8.96875 16.078125 C 7.914062 20.652344 8.617188 24.53125 11.070312 27.660156 C 11.351562 28.015625 11.363281 27.914062 10.972656 28.382812 C 8.925781 30.84375 7.945312 33.28125 8.238281 35.1875 C 8.289062 35.527344 8.28125 35.523438 8.917969 35.523438 C 10.941406 35.523438 13.074219 34.207031 15.136719 31.6875 C 15.359375 31.417969 15.328125 31.425781 15.5625 31.574219 C 16.292969 32.042969 18.023438 32.964844 18.175781 32.964844 C 18.335938 32.964844 19.941406 32.210938 20.828125 31.71875 C 20.996094 31.625 21.136719 31.554688 21.136719 31.558594 C 21.203125 31.664062 21.898438 32.414062 22.222656 32.730469 C 23.835938 34.300781 25.5625 35.132812 27.582031 35.300781 C 27.90625 35.328125 27.9375 35.308594 28.007812 34.984375 C 28.382812 33.242188 27.625 30.925781 25.863281 28.425781 L 25.542969 27.96875 L 25.699219 27.785156 C 28.945312 23.960938 29.132812 18.699219 26.257812 11.96875 L 26.207031 11.84375 L 27.945312 12.703125 C 31.53125 14.476562 32.316406 14.800781 33.03125 14.800781 C 33.976562 14.800781 33.78125 13.9375 32.472656 12.292969 C 28.519531 7.355469 25.394531 5.925781 21.921875 7.472656 L 21.558594 7.636719 L 21.578125 7.542969 C 21.699219 6.992188 21.761719 5.742188 21.699219 5.164062 C 21.496094 3.296875 20.664062 1.964844 19.003906 0.855469 C 18.480469 0.503906 18.457031 0.5 18.214844 0.632812\"/>\n",
       "</g>\n",
       "      </svg>\n",
       "    "
      ],
      "text/plain": [
       "<IPython.core.display.HTML object>"
      ]
     },
     "metadata": {},
     "output_type": "display_data"
    }
   ],
   "source": [
    "# initialize the turtle\n",
    "initializeTurtle()"
   ]
  },
  {
   "cell_type": "code",
   "execution_count": 52,
   "id": "ff917047",
   "metadata": {},
   "outputs": [],
   "source": [
    "# try:\n",
    "#     t = turtle.Turtle()\n",
    "# except:\n",
    "#     t = turtle.Turtle()"
   ]
  },
  {
   "cell_type": "code",
   "execution_count": 53,
   "id": "04605873",
   "metadata": {},
   "outputs": [],
   "source": [
    "def drawPolygon(t, vertices):\n",
    "    up()\n",
    "    (x, y) = vertices[-1]\n",
    "    goto(x, y)\n",
    "    down()\n",
    "    for (x, y) in vertices:\n",
    "        goto(x, y)"
   ]
  },
  {
   "cell_type": "code",
   "execution_count": 60,
   "id": "fa7ac977",
   "metadata": {},
   "outputs": [
    {
     "name": "stdout",
     "output_type": "stream",
     "text": [
      "[(250.0, 125.0), (444.856, 12.5), (639.712, 125.0), (639.712, 350.0), (444.856, 462.5), (250.0, 350.0)]\n"
     ]
    }
   ],
   "source": [
    "vertices = []\n",
    "def drawHex():\n",
    "    penup()\n",
    "    goto(250,350)\n",
    "    pendown()\n",
    "    for _ in range(6):\n",
    "      forward(225)\n",
    "      right(360 / 6)\n",
    "      vert = pos()\n",
    "      vertices.append(vert)\n",
    "\n",
    "\n",
    "drawHex()\n",
    "vertices = []\n",
    "def drawHex():\n",
    "    penup()\n",
    "    goto(250,350)\n",
    "    pendown()\n",
    "    for _ in range(6):\n",
    "      forward(225)\n",
    "      right(360 / 6)\n",
    "      vert = pos()\n",
    "      vertices.append(vert)\n",
    "\n",
    "\n",
    "drawHex()\n",
    "print(vertices)\n"
   ]
  },
  {
   "cell_type": "code",
   "execution_count": null,
   "id": "c1a0f733",
   "metadata": {},
   "outputs": [],
   "source": []
  }
 ],
 "metadata": {
  "kernelspec": {
   "display_name": "Python 3 (ipykernel)",
   "language": "python",
   "name": "python3"
  },
  "language_info": {
   "codemirror_mode": {
    "name": "ipython",
    "version": 3
   },
   "file_extension": ".py",
   "mimetype": "text/x-python",
   "name": "python",
   "nbconvert_exporter": "python",
   "pygments_lexer": "ipython3",
   "version": "3.9.7"
  }
 },
 "nbformat": 4,
 "nbformat_minor": 5
}
